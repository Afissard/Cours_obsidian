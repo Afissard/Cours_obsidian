{
 "cells": [
  {
   "cell_type": "code",
   "execution_count": 1,
   "metadata": {},
   "outputs": [],
   "source": [
    "import pandas as pd\n",
    "import numpy as np\n",
    "import math as mt\n",
    "import matplotlib.pyplot as plt\n",
    "from scipy.stats import *\n",
    "import geopandas as gpd"
   ]
  },
  {
   "cell_type": "code",
   "execution_count": 2,
   "metadata": {},
   "outputs": [],
   "source": [
    "path=''\n",
    "france = gpd.read_file(path+\"departements.geojson\")\n",
    "world = gpd.read_file(path+\"countries.geojson\")"
   ]
  },
  {
   "cell_type": "code",
   "execution_count": 3,
   "metadata": {},
   "outputs": [
    {
     "name": "stdout",
     "output_type": "stream",
     "text": [
      "      DEP  COM    COG ARRD CANT ADMI POPU SURFACE          NOM XLAMB2  ...  \\\n",
      "0       1  445   1445    2   11    6    6    1386  VILLEMOTIER   8297  ...   \n",
      "1       1   98   1098    1    4    6    7    1059  CHAZEY-BONS   8600  ...   \n",
      "2       1   57   1057    2   26    6    5     731          BOZ   7978  ...   \n",
      "3       1  149   1149    1    1    6   10     526      DOUVRES   8352  ...   \n",
      "4       1  436   1436    3   14    6    5    1070      VESANCY   8888  ...   \n",
      "...    ..  ...    ...  ...  ...  ...  ...     ...          ...    ...  ...   \n",
      "36547  2B   58  2B058    2    9    6    3    1667       CANARI  11722  ...   \n",
      "36548  2B   43  2B043    2    9    5   16    2222       BRANDO  11848  ...   \n",
      "36549  2B  178  2B178    2    9    6    1     804        NONZA  11740  ...   \n",
      "36550  2B   33  2B033    2   99    3  430    1938       BASTIA  11834  ...   \n",
      "36551  2B   29  2B029    5   29    6    2    1086    BARBAGGIO  11776  ...   \n",
      "\n",
      "      XLAMBZ YLAMBZ XLAMB93 YLAMB93 LONGI_GRD LATI_GRD LONGI_DMS LATI_DMS  \\\n",
      "0       8297  21539    8785   65855      3316    51496     51916   462046   \n",
      "1       8600   2947    9083   65261      3717    50892     54054   454811   \n",
      "2       7978  21595    8467   65914      2859    51563     45434   462425   \n",
      "3       8352  21144    8837   65460      3374    51099     52223   455920   \n",
      "4       8888  21567    9376   65878      4171    51498     60527   462055   \n",
      "...      ...    ...     ...     ...       ...      ...       ...      ...   \n",
      "36547   5713  42849   12174   62148      7770    47606     91948   425044   \n",
      "36548   5838  42780   12299   62079      7932    47528     92831   424630   \n",
      "36549   5730  42782   12192   62081      7786    47538     92040   424705   \n",
      "36550   5824  42695   12285   61994      7903    47444     92658   424200   \n",
      "36551   5766  42679   12227   61978      7823    47433     92240   424123   \n",
      "\n",
      "      ZMIN  ZMAX  \n",
      "0      197   261  \n",
      "1      223   423  \n",
      "2      168   206  \n",
      "3      249   480  \n",
      "4      582  1490  \n",
      "...    ...   ...  \n",
      "36547    0  1268  \n",
      "36548    0  1306  \n",
      "36549    0   841  \n",
      "36550    0   963  \n",
      "36551    7   940  \n",
      "\n",
      "[36552 rows x 21 columns]\n",
      "      CODGEO EFF_TOT EFF_AZ EFF_BE EFF_FZ EFF_GU EFF_OQ EFF_TOT_1_4  \\\n",
      "0       1001      47     10      0     13     10     14          16   \n",
      "1       1002       8      1      0      0      4      3           8   \n",
      "2       1004    5768      1    477    385   3175   1730         680   \n",
      "3       1005     171      1     39     28     55     48          43   \n",
      "4       1006       3      0      0      0      1      2           3   \n",
      "...      ...     ...    ...    ...    ...    ...    ...         ...   \n",
      "34975  97420    3995    111    227    358   1768   1531         547   \n",
      "34976  97421     846     66     24     70    254    432         197   \n",
      "34977  97422   12599    474    773   1185   4581   5586        2254   \n",
      "34978  97423     867      8     33     51    275    500         137   \n",
      "34979  97424     828      2     27     20    375    404         106   \n",
      "\n",
      "      EFF_AZ_1_4 EFF_BE_1_4  ... EFF_BE_200_499 EFF_FZ_200_499 EFF_GU_200_499  \\\n",
      "0              1          0  ...              0              0              0   \n",
      "1              1          0  ...              0              0              0   \n",
      "2              1         13  ...              0              0              0   \n",
      "3              1          2  ...              0              0              0   \n",
      "4              0          0  ...              0              0              0   \n",
      "...          ...        ...  ...            ...            ...            ...   \n",
      "34975         49         28  ...              0              0            320   \n",
      "34976         32         19  ...              0              0              0   \n",
      "34977        183        122  ...              0              0              0   \n",
      "34978          8          4  ...              0              0              0   \n",
      "34979          2          6  ...              0              0              0   \n",
      "\n",
      "      EFF_OQ_200_499 EFF_TOT_500P EFF_AZ_500P EFF_BE_500P EFF_FZ_500P  \\\n",
      "0                  0            0           0           0           0   \n",
      "1                  0            0           0           0           0   \n",
      "2                486            0           0           0           0   \n",
      "3                  0            0           0           0           0   \n",
      "4                  0            0           0           0           0   \n",
      "...              ...          ...         ...         ...         ...   \n",
      "34975              0          566           0           0           0   \n",
      "34976              0            0           0           0           0   \n",
      "34977            695         1708           0           0           0   \n",
      "34978            216            0           0           0           0   \n",
      "34979            253            0           0           0           0   \n",
      "\n",
      "      EFF_GU_500P EFF_OQ_500P  \n",
      "0               0           0  \n",
      "1               0           0  \n",
      "2               0           0  \n",
      "3               0           0  \n",
      "4               0           0  \n",
      "...           ...         ...  \n",
      "34975           0         566  \n",
      "34976           0           0  \n",
      "34977           0        1708  \n",
      "34978           0           0  \n",
      "34979           0           0  \n",
      "\n",
      "[34980 rows x 55 columns]\n"
     ]
    }
   ],
   "source": [
    "data_communes = pd.read_csv(path+'RGC_2013.csv',sep=';', dtype=str)\n",
    "data_emplois=pd.read_csv(path+'Emplois_salaries.csv',sep=';', dtype=str)\n",
    "\n",
    "#Traitement préalable des données à effectuer\n",
    "data_communes.DEP.astype(str)\n",
    "data_communes.COM.astype(str)\n",
    "data_emplois.astype(str)\n",
    "data_communes.insert(loc=2, column=\"COG\", value=data_communes.DEP+data_communes.COM.str.zfill(3))\n",
    "\n",
    "print(data_communes)\n",
    "print(data_emplois)"
   ]
  },
  {
   "cell_type": "code",
   "execution_count": 4,
   "metadata": {},
   "outputs": [],
   "source": [
    "def associate_arr_mun(num_dep,cog,num_arr_debut,num_arr_fin):\n",
    "    list_arr_com=[str(num_dep)+str(num_arr).zfill(3) for num_arr in \\\n",
    "                  range(num_arr_debut,num_arr_fin+1)]\n",
    "    mask=data_emplois['CODGEO'].str.zfill(5).isin(list_arr_com)\n",
    "    data_emplois_commune=data_emplois[mask].sum()\n",
    "    data_emplois_commune['CODGEO']=str(cog)\n",
    "    data_emplois.loc[len(data_emplois)]=data_emplois_commune.values"
   ]
  },
  {
   "cell_type": "code",
   "execution_count": 5,
   "metadata": {},
   "outputs": [],
   "source": [
    "associate_arr_mun(75,75056,101,120)\n",
    "associate_arr_mun(13,13055,201,216)\n",
    "associate_arr_mun(69,69123,381,389)"
   ]
  },
  {
   "cell_type": "code",
   "execution_count": 7,
   "metadata": {},
   "outputs": [
    {
     "name": "stdout",
     "output_type": "stream",
     "text": [
      "         COG POPU EFF_TOT SURFACE      RATIO         DENS\n",
      "0       1445    6      31    1386   5.166667    43.290043\n",
      "1       1098    7     401    1059  57.285714    66.100094\n",
      "2       1057    5      69     731  13.800000    68.399453\n",
      "3       1149   10      24     526   2.400000   190.114068\n",
      "4       1436    5      13    1070   2.600000    46.728972\n",
      "...      ...  ...     ...     ...        ...          ...\n",
      "34818  2B058    3      27    1667   9.000000    17.996401\n",
      "34819  2B043   16     215    2222  13.437500    72.007201\n",
      "34820  2B178    1      13     804  13.000000    12.437811\n",
      "34821  2B033  430   17980    1938  41.813953  2218.782250\n",
      "34822  2B029    2      19    1086   9.500000    18.416206\n",
      "\n",
      "[34752 rows x 6 columns]\n"
     ]
    },
    {
     "data": {
      "image/png": "[encoded data removed]",
      "text/plain": [
       "<Figure size 640x480 with 1 Axes>"
      ]
     },
     "metadata": {},
     "output_type": "display_data"
    }
   ],
   "source": [
    "#Question 3.2\n",
    "temp_commune = data_communes[data_communes['POPU']!= 0][['COG', 'POPU', 'SURFACE']]\n",
    "temp_emplois = data_emplois[['CODGEO','EFF_TOT']]\n",
    "ratio = pd.merge(left=temp_commune, right=temp_emplois, how='inner', left_on=['COG'], right_on=['CODGEO'])[['COG', 'POPU', 'EFF_TOT', 'SURFACE']]\n",
    "ratio.insert(loc=len(ratio.columns), column=\"RATIO\", value=ratio.EFF_TOT.astype(float)/ratio.POPU.astype(float))\n",
    "ratio.insert(loc=len(ratio.columns), column='DENS', value=(ratio.POPU.astype(float)*100)/(ratio.SURFACE.astype(float)/100))\n",
    "ratio.dropna(inplace=True)\n",
    "print(ratio)\n",
    "plt.boxplot(x=ratio['RATIO'], showmeans=True, meanline=True, showfliers=False)\n",
    "plt.show()"
   ]
  },
  {
   "cell_type": "markdown",
   "metadata": {},
   "source": [
    "Expliquer ici la différence entre moyenne et médiane. Par ailleurs quel indicateur statistique pourrait-on utiliser pour quantifier la dispersion des données ?"
   ]
  },
  {
   "cell_type": "code",
   "execution_count": 10,
   "metadata": {},
   "outputs": [
    {
     "name": "stdout",
     "output_type": "stream",
     "text": [
      "inf 9.5 nan\n"
     ]
    },
    {
     "name": "stderr",
     "output_type": "stream",
     "text": [
      "C:\\Users\\sacha_8crotws\\AppData\\Roaming\\Python\\Python311\\site-packages\\pandas\\core\\nanops.py:1010: RuntimeWarning: invalid value encountered in subtract\n",
      "  sqr = _ensure_numeric((avg - values) ** 2)\n"
     ]
    }
   ],
   "source": [
    "#Question 3.3\n",
    "print(ratio.RATIO.mean(), ratio.RATIO.median(), ratio.RATIO.std())"
   ]
  },
  {
   "cell_type": "code",
   "execution_count": 9,
   "metadata": {},
   "outputs": [
    {
     "name": "stdout",
     "output_type": "stream",
     "text": [
      "0          43.290043\n",
      "1          66.100094\n",
      "2          68.399453\n",
      "3         190.114068\n",
      "4          46.728972\n",
      "            ...     \n",
      "34818      17.996401\n",
      "34819      72.007201\n",
      "34820      12.437811\n",
      "34821    2218.782250\n",
      "34822      18.416206\n",
      "Name: DENS, Length: 34752, dtype: float64\n"
     ]
    }
   ],
   "source": [
    "#calculs à effectuer pour rajouter la densité de population (DENS) par département\n",
    "# * DENS (Hab/Km²) = (POPU*100)/(SURFACE/100)\n",
    "print(ratio.DENS)"
   ]
  },
  {
   "cell_type": "code",
   "execution_count": 8,
   "metadata": {},
   "outputs": [
    {
     "ename": "SyntaxError",
     "evalue": "invalid syntax (1219499207.py, line 2)",
     "output_type": "error",
     "traceback": [
      "\u001b[1;36m  Cell \u001b[1;32mIn[8], line 2\u001b[1;36m\u001b[0m\n\u001b[1;33m    france_map =#jointure à effectuer\u001b[0m\n\u001b[1;37m                ^\u001b[0m\n\u001b[1;31mSyntaxError\u001b[0m\u001b[1;31m:\u001b[0m invalid syntax\n"
     ]
    }
   ],
   "source": [
    "#Carte densité par départements\n",
    "france_map =#jointure à effectuer\n",
    "print('type dataframe jointure : ',type(france_map))\n",
    "france_map = gpd.GeoDataFrame(france_map)\n",
    "fig, ax = plt.subplots(1, figsize=(9,8))\n",
    "# On crée 5 catégories en utilisant des quantiles (la notion de quantiles est un terme générique, avec 4 catégories on subdivise les quantiles sont des quartiles et avec 10 catégories les quantiles sont des déciles)\n",
    "france_map.plot(ax=ax, \n",
    "                column='DENS', \n",
    "                cmap='GnBu', #https://matplotlib.org/stable/tutorials/colors/colormaps.html  YlOrRd\n",
    "                scheme='quantiles', \n",
    "                k=5, \n",
    "                legend=True,legend_kwds={'loc':'center left','bbox_to_anchor':(-0.1, 0.5)})\n",
    "\n",
    "ax.axis('off')\n",
    "plt.title(\"Densité population par département\", fontsize=15)\n",
    "ax.annotate('Année: 2013', xy=(0.1, .15), \n",
    "                                   xycoords='figure fraction', \n",
    "                                   horizontalalignment='left', \n",
    "                                   verticalalignment='top', \n",
    "                                   fontsize=12, \n",
    "                                   color='#555555')\n",
    "plt.show()"
   ]
  },
  {
   "cell_type": "markdown",
   "metadata": {},
   "source": [
    "Interpréter précisément ici la signification des données représentées sur les départements avec la teinte la plus claire"
   ]
  },
  {
   "cell_type": "code",
   "execution_count": null,
   "metadata": {},
   "outputs": [],
   "source": [
    "#Cartes avec qqs communes\n",
    "\n",
    "fig, ax = plt.subplots(1, figsize=(10,10))\n",
    "world_map = gpd.GeoDataFrame(world)\n",
    "world_map.plot(ax=ax)\n",
    "ax.set_xlim(-5, 10)\n",
    "ax.set_ylim(42, 52)\n"
   ]
  }
 ],
 "metadata": {
  "kernelspec": {
   "display_name": "base",
   "language": "python",
   "name": "python3"
  },
  "language_info": {
   "codemirror_mode": {
    "name": "ipython",
    "version": 3
   },
   "file_extension": ".py",
   "mimetype": "text/x-python",
   "name": "python",
   "nbconvert_exporter": "python",
   "pygments_lexer": "ipython3",
   "version": "3.11.2"
  }
 },
 "nbformat": 4,
 "nbformat_minor": 2
}
