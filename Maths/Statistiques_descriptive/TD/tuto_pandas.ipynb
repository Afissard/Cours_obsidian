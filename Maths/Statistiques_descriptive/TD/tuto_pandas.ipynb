{
 "cells": [
  {
   "attachments": {},
   "cell_type": "markdown",
   "metadata": {},
   "source": [
    "# Manipulation de données avec pandas\n",
    "\n",
    "\n",
    "Pour avoir accès aux fonctionnalités de `pandas`, il est de coutume de charger la librairie en lui accordant l'alias `pd`. Nous allons également utiliser des fonctions de `numpy` et des outils de visualisation de ```matplotlib.pyplot```\n"
   ]
  },
  {
   "cell_type": "code",
   "execution_count": 1,
   "metadata": {},
   "outputs": [],
   "source": [
    "import pandas as pd\n",
    "import numpy as np\n",
    "import matplotlib.pyplot as plt"
   ]
  },
  {
   "attachments": {},
   "cell_type": "markdown",
   "metadata": {},
   "source": [
    "Pandas fournit essentiellement deux structures de données pour manipuler les données, ce sont les `Series` et les `Dataframe`\n",
    "\n",
    "## Les `Series`\n",
    "\n",
    "Une série est un tableau étiqueté unidimensionnel pouvant contenir tout type de données. Lors de l'affichage la (ou les)  première(s) colonne(s) contiennent les étiquettes qui représentent l'index de la série\n"
   ]
  },
  {
   "cell_type": "code",
   "execution_count": 2,
   "metadata": {},
   "outputs": [
    {
     "name": "stdout",
     "output_type": "stream",
     "text": [
      "Avec un dict, serie_club_d :\n",
      "1         Arsenal\n",
      "2     Aston Villa\n",
      "5         Chelsea\n",
      "7         Everton\n",
      "8    Leeds United\n",
      "dtype: object\n",
      "Avec index renseigné, serie_club :\n",
      "1         Arsenal\n",
      "2     Aston Villa\n",
      "5         Chelsea\n",
      "7         Everton\n",
      "8    Leeds United\n",
      "dtype: object\n",
      "Sans index renseigné\n",
      "0         Arsenal\n",
      "1     Aston Villa\n",
      "2         Chelsea\n",
      "3         Everton\n",
      "4    Leeds United\n",
      "dtype: object\n",
      "Avec une double indexation\n",
      "English Premier League  1        Arsenal\n",
      "                        2    Aston Villa\n",
      "                        3        Chelsea\n",
      "French Ligue 1          1      AS Monaco\n",
      "                        2     Angers SCO\n",
      "dtype: object\n"
     ]
    }
   ],
   "source": [
    "dict_club={1:'Arsenal',2:'Aston Villa',5:'Chelsea',7:'Everton',8:'Leeds United'}\n",
    "serie_club_d=pd.Series(dict_club)\n",
    "print(f'Avec un dict, serie_club_d :\\n{serie_club_d}')\n",
    "\n",
    "serie_club=pd.Series(['Arsenal','Aston Villa','Chelsea','Everton','Leeds United'],index=[1,2,5,7,8])\n",
    "print(f'Avec index renseigné, serie_club :\\n{serie_club}')\n",
    "\n",
    "#Sans index renseigné, une indexation est définie par défaut\n",
    "serie_club2=pd.Series(['Arsenal','Aston Villa','Chelsea','Everton','Leeds United'])\n",
    "print(f'Sans index renseigné\\n{serie_club2}')\n",
    "\n",
    "#Avec une double indexation \n",
    "serie_club_3=pd.Series(['Arsenal','Aston Villa','Chelsea','AS Monaco','Angers SCO'],index=[['English Premier League']*3+['French Ligue 1']*2,[1,2,3,1,2]])\n",
    "print(f'Avec une double indexation\\n{serie_club_3}')"
   ]
  },
  {
   "attachments": {},
   "cell_type": "markdown",
   "metadata": {},
   "source": [
    "Si on veut ajouter des noms à la série ou à l'index :"
   ]
  },
  {
   "cell_type": "code",
   "execution_count": 3,
   "metadata": {},
   "outputs": [
    {
     "name": "stdout",
     "output_type": "stream",
     "text": [
      "Id_club\n",
      "1         Arsenal\n",
      "2     Aston Villa\n",
      "5         Chelsea\n",
      "7         Everton\n",
      "8    Leeds United\n",
      "Name: Nom club, dtype: object\n"
     ]
    }
   ],
   "source": [
    "serie_club.name='Nom club'\n",
    "serie_club.index.name='Id_club'\n",
    "print(serie_club)"
   ]
  },
  {
   "attachments": {},
   "cell_type": "markdown",
   "metadata": {},
   "source": [
    "Si on veut récupérer l'ensemble des valeurs de la série ou de l'index :"
   ]
  },
  {
   "cell_type": "code",
   "execution_count": 4,
   "metadata": {},
   "outputs": [
    {
     "name": "stdout",
     "output_type": "stream",
     "text": [
      "['Arsenal' 'Aston Villa' 'Chelsea' 'Everton' 'Leeds United']\n",
      "<class 'numpy.ndarray'>\n",
      "[1 2 5 7 8]\n"
     ]
    }
   ],
   "source": [
    "print(serie_club.values)\n",
    "print(type(serie_club.values))\n",
    "print(serie_club.index.values)"
   ]
  },
  {
   "attachments": {},
   "cell_type": "markdown",
   "metadata": {},
   "source": [
    "Pour interroger les valeurs stockées dans un objet `Series` on peut fonctionner de différentes manières. La méthode `iloc` fournit une méthode de sélection selon la position de l'élément voulu alors que `loc` exploite la valeur de l'index. L'opérateur d'indexation `[]` appliqué directement à un objet `Series` peut être également utilisé mais il faut être conscient de son comportement qui correspond soit à celui de `loc` soit à celui de `iloc` selon la valeur passée. Lorsque les deux traitements sont possibles le comportement adopté est celui de la méthode `loc`"
   ]
  },
  {
   "cell_type": "code",
   "execution_count": 5,
   "metadata": {},
   "outputs": [
    {
     "name": "stdout",
     "output_type": "stream",
     "text": [
      "Id_club\n",
      "1         Arsenal\n",
      "2     Aston Villa\n",
      "5         Chelsea\n",
      "7         Everton\n",
      "8    Leeds United\n",
      "Name: Nom club, dtype: object\n",
      "serie_club.loc[1] :  Arsenal\n",
      "serie_club[1] :  Arsenal\n",
      "serie_club[[1,7]] :\n",
      "Id_club\n",
      "1    Arsenal\n",
      "7    Everton\n",
      "Name: Nom club, dtype: object\n",
      "serie_club.iloc[1] : Aston Villa\n",
      "serie_club.iloc[0:3] :\n",
      "Id_club\n",
      "1        Arsenal\n",
      "2    Aston Villa\n",
      "5        Chelsea\n",
      "Name: Nom club, dtype: object\n",
      "serie_club[1:] :\n",
      "Id_club\n",
      "2     Aston Villa\n",
      "5         Chelsea\n",
      "7         Everton\n",
      "8    Leeds United\n",
      "Name: Nom club, dtype: object\n"
     ]
    }
   ],
   "source": [
    "print(serie_club)\n",
    "print('serie_club.loc[1] : ',serie_club.loc[1])\n",
    "print('serie_club[1] : ',serie_club[1])\n",
    "print(f'serie_club[[1,7]] :\\n{serie_club[[1,7]]}')\n",
    "print(f'serie_club.iloc[1] : {serie_club.iloc[1]}')\n",
    "print(f'serie_club.iloc[0:3] :\\n{serie_club.iloc[0:3]}')\n",
    "print(f'serie_club[1:] :\\n{serie_club[1:]}')"
   ]
  },
  {
   "attachments": {},
   "cell_type": "markdown",
   "metadata": {},
   "source": [
    "## Les `Dataframe`\n",
    "La `Dataframe` est une structure qui organise les données en lignes et en colonnes. On peut aussi se la représenter comme un dictionnaire d'objets `Series`. C'est l'objet `pandas` le plus utilisé. Pour accéder aux colonnes on utilise l'opérateur ['nom de la colonne' ] qui n'est plus exploitable pour l'accès aux lignes qui doit se faire par l'utilisation des méthodes `loc` et `iloc`"
   ]
  },
  {
   "cell_type": "code",
   "execution_count": 6,
   "metadata": {},
   "outputs": [
    {
     "name": "stdout",
     "output_type": "stream",
     "text": [
      "   Player_name Nationality  Player_club_id  Age   ValueEUR\n",
      "0     L. Messi   Argentina              73   33  103500000\n",
      "1    P. Dybala   Argentina              45   26   95000000\n",
      "2  E. Martinez   Argentina               2   27   33000000\n",
      "3  G. Lo Celso   Argentina              18   24   38500000\n",
      "4   N.Otamendi   Argentina             234   32   13500000\n",
      "5    K. Mbappé      France              73   21  185500000\n",
      "6  J. Veretout      France              52   27   26500000\n",
      "7    H. Lloris      France              18   33   26000000 \n",
      "\n",
      "0    Argentina\n",
      "1    Argentina\n",
      "2    Argentina\n",
      "3    Argentina\n",
      "4    Argentina\n",
      "5       France\n",
      "6       France\n",
      "7       France\n",
      "Name: Nationality, dtype: object\n",
      "  Player_name Nationality  Player_club_id  Age   ValueEUR\n",
      "0    L. Messi   Argentina              73   33  103500000\n",
      "1   P. Dybala   Argentina              45   26   95000000 \n",
      "\n",
      "   Player_name Nationality  Player_club_id  Age  ValueEUR\n",
      "1    P. Dybala   Argentina              45   26  95000000\n",
      "2  E. Martinez   Argentina               2   27  33000000\n",
      "3  G. Lo Celso   Argentina              18   24  38500000 \n",
      "\n",
      "Player_name       E. Martinez\n",
      "Nationality         Argentina\n",
      "Player_club_id              2\n",
      "Age                        27\n",
      "ValueEUR             33000000\n",
      "Name: 2, dtype: object \n",
      "\n",
      "  Player_name Nationality  Player_club_id  Age   ValueEUR\n",
      "5   K. Mbappé      France              73   21  185500000\n",
      "0    L. Messi   Argentina              73   33  103500000\n",
      "1   P. Dybala   Argentina              45   26   95000000\n"
     ]
    }
   ],
   "source": [
    "dico_players={\n",
    "    \"Player_name\" : pd.Series(['L. Messi','P. Dybala','E. Martinez','G. Lo Celso','N.Otamendi','K. Mbappé','J. Veretout','H. Lloris']),\n",
    "    \"Nationality\" : pd.Series(['Argentina']*5+['France']*3),\n",
    "    \"Player_club_id\" : pd.Series([73,45,2,18,234,73,52,18]),\n",
    "    \"Age\" : pd.Series([33,26,27,24,32,21,27,33]),\n",
    "    \"ValueEUR\" : pd.Series([103500000,95000000,33000000,38500000,13500000,185500000,26500000,26000000])\n",
    "}\n",
    "data_players=pd.DataFrame(dico_players)\n",
    "print(data_players,'\\n')\n",
    "print(data_players['Nationality'])\n",
    "print(data_players.iloc[:2],'\\n')\n",
    "print(data_players.loc[1:3],'\\n')\n",
    "print(data_players.loc[2],'\\n')\n",
    "print(data_players.sort_values(['ValueEUR'],ascending=False).head(3))#head(3) agit ici comme [:3].head(3))#head(3) agit ici comme [:3]\n"
   ]
  },
  {
   "cell_type": "markdown",
   "metadata": {},
   "source": [
    "On peut extraire d'un `dataframe` un autre `dataframe` avec un nombre de colonnes restreint en spécifiant les noms des champs conservés dans une double paire de crochets.\n",
    "On peut extraire d'un `dataframe` un objet `series` ce qui peut tout particulièrement être utile pour des représentations graphiques dans `matplotlib` quand le paramètre doit être un objet d'une dimension réduite à 1."
   ]
  },
  {
   "cell_type": "code",
   "execution_count": 7,
   "metadata": {},
   "outputs": [
    {
     "name": "stdout",
     "output_type": "stream",
     "text": [
      "   Player_name Nationality  Age\n",
      "0     L. Messi   Argentina   33\n",
      "1    P. Dybala   Argentina   26\n",
      "2  E. Martinez   Argentina   27\n",
      "3  G. Lo Celso   Argentina   24\n",
      "4   N.Otamendi   Argentina   32\n",
      "5    K. Mbappé      France   21\n",
      "6  J. Veretout      France   27\n",
      "7    H. Lloris      France   33\n",
      "La moyenne des âges est de 27.875 \n"
     ]
    }
   ],
   "source": [
    "df_reduit=data_players[['Player_name','Nationality','Age']]\n",
    "serie_age=data_players['Age']\n",
    "print(df_reduit)\n",
    "print(f'La moyenne des âges est de {serie_age.mean()} ')"
   ]
  },
  {
   "attachments": {},
   "cell_type": "markdown",
   "metadata": {},
   "source": [
    "On peut avoir le souhait de remplacer les valeurs d'une colonne (ici la valeur des argentins est augmentée) ou de rajouter une colonne avec un calcul effectué (ici une colonne estimant la valeur par année de carrière restante)"
   ]
  },
  {
   "cell_type": "code",
   "execution_count": 8,
   "metadata": {},
   "outputs": [
    {
     "name": "stdout",
     "output_type": "stream",
     "text": [
      "   Player_name Nationality  Age   ValueEUR  Valeur par année avant retraite\n",
      "0     L. Messi   Argentina   33  108500000                       15500000.0\n",
      "1    P. Dybala   Argentina   26  100000000                        7142857.0\n",
      "2  E. Martinez   Argentina   27   38000000                        2923076.0\n",
      "3  G. Lo Celso   Argentina   24   43500000                        2718750.0\n",
      "4   N.Otamendi   Argentina   32   18500000                        2312500.0\n",
      "5    K. Mbappé      France   21  185500000                        9763157.0\n",
      "6  J. Veretout      France   27   26500000                        2038461.0\n",
      "7    H. Lloris      France   33   26000000                        3714285.0\n"
     ]
    }
   ],
   "source": [
    "new_df=data_players.copy()\n",
    "new_df.loc[new_df.Nationality=='Argentina','ValueEUR']=new_df.ValueEUR+5000000#Augmentation de la valeur pour Argentins\n",
    "new_df['Valeur par année avant retraite']=np.floor(new_df['ValueEUR']/(40-new_df['Age']))#Estimation avec âge de retraite fixé à 40 ans\n",
    "print(new_df[['Player_name','Nationality','Age','ValueEUR','Valeur par année avant retraite']])"
   ]
  },
  {
   "attachments": {},
   "cell_type": "markdown",
   "metadata": {},
   "source": [
    "On peut avoir recours à l'utilisation de certaines méthodes (ci-dessous l'affichage de statistiques diverses ou encore le remplacement de l'indexation effectuée par défaut), ou certains attributs comme des noms ou les dimensions de la structure créée. On peut noter l'utilisation du paramètre `inplace` pour décider si le changement effectué porte sur le dataframe lui-même (auquel cas on lui affecte l'argument `True` ou si on demande à renvoyer un nouveau dataframe sur lequel le changement sera effectué auquel cas on utiliserait `nouveau_df=ancien_df.reset_index(inplace=False)`)"
   ]
  },
  {
   "cell_type": "code",
   "execution_count": 9,
   "metadata": {},
   "outputs": [
    {
     "name": "stdout",
     "output_type": "stream",
     "text": [
      "count     8.000000\n",
      "mean     27.875000\n",
      "std       4.421942\n",
      "min      21.000000\n",
      "25%      25.500000\n",
      "50%      27.000000\n",
      "75%      32.250000\n",
      "max      33.000000\n",
      "Name: Age, dtype: float64\n",
      "L'index s'appelle comme ça : Player_ID\n",
      "Une fois renommé il s'appelle comme ça : nom_index\n",
      "Et voici les noms en index une fois qu'on l'a supprimé :[None]  ou  None\n",
      "(8, 5)\n",
      "   Player_name Nationality  Player_club_id  Age   ValueEUR\n",
      "0     L. Messi   Argentina              73   33  103500000\n",
      "1    P. Dybala   Argentina              45   26   95000000\n",
      "2  E. Martinez   Argentina               2   27   33000000\n",
      "3  G. Lo Celso   Argentina              18   24   38500000\n",
      "4   N.Otamendi   Argentina             234   32   13500000\n",
      "5    K. Mbappé      France              73   21  185500000\n",
      "6  J. Veretout      France              52   27   26500000\n",
      "7    H. Lloris      France              18   33   26000000\n"
     ]
    }
   ],
   "source": [
    "print(data_players['Age'].describe())\n",
    "data_players.set_index([pd.Series([158023,211110,202811,226226,192366,231747,201519,167948],name='Player_ID')],inplace=True)\n",
    "print(f\"L\\'index s'appelle comme ça : {data_players.index.name}\")\n",
    "data_players.index.name='nom_index'\n",
    "print(f\"Une fois renommé il s'appelle comme ça : {data_players.index.name}\")\n",
    "#et si on veut revenir sur ce dernier choix :\n",
    "data_players.reset_index(inplace=True,drop=True)\n",
    "#Ci-dessus l'argument drop permet de décider si on abandonne l'index supprimé (paramètre=True) ou si on le place en colonne (paramètre=False)\n",
    "print(f\"Et voici les noms en index une fois qu'on l'a supprimé :{data_players.index.names}\",' ou ',data_players.index.name)\n",
    "print(data_players.shape)\n",
    "print(data_players)"
   ]
  },
  {
   "attachments": {},
   "cell_type": "markdown",
   "metadata": {},
   "source": [
    "Il peut être particulièrement pratique d'utiliser un masque pour ne sélectionner que certaines données selon un ou plusieurs critères"
   ]
  },
  {
   "cell_type": "code",
   "execution_count": 10,
   "metadata": {},
   "outputs": [
    {
     "name": "stdout",
     "output_type": "stream",
     "text": [
      "  Nationality  Age\n",
      "0   Argentina   33\n",
      "4   Argentina   32\n",
      "   Player_name Nationality  Player_club_id  Age   ValueEUR\n",
      "1    P. Dybala   Argentina              45   26   95000000\n",
      "2  E. Martinez   Argentina               2   27   33000000\n",
      "3  G. Lo Celso   Argentina              18   24   38500000\n",
      "5    K. Mbappé      France              73   21  185500000\n",
      "6  J. Veretout      France              52   27   26500000\n",
      "7    H. Lloris      France              18   33   26000000\n",
      "   Player_name  Player_club_id\n",
      "0     L. Messi              73\n",
      "2  E. Martinez               2\n",
      "3  G. Lo Celso              18\n",
      "5    K. Mbappé              73\n",
      "7    H. Lloris              18\n"
     ]
    }
   ],
   "source": [
    "mask_selection_1=(data_players['Nationality']=='Argentina')&(data_players['Age']>=30) #Vous avez essayé avec and ?\n",
    "mask_selection_2=(data_players.Nationality=='France')|(data_players['Age']<30)\n",
    "mask_selection_3=data_players.Player_club_id.isin([73,18,2])#Pour filtrer selon les valeurs présentes dans une liste\n",
    "selection_1=data_players[mask_selection_1][['Nationality','Age']]\n",
    "selection_2=data_players[mask_selection_2]\n",
    "selection_3=data_players[mask_selection_3][['Player_name','Player_club_id']]\n",
    "print(selection_1)\n",
    "print(selection_2)\n",
    "print(selection_3)"
   ]
  },
  {
   "attachments": {},
   "cell_type": "markdown",
   "metadata": {},
   "source": [
    "Si on veut fusionner deux sources de données déjà structurées en `dataframe` en une seule on peut le faire avec la méthode de concaténation. Par défaut cela place les données d'un dataframe sous les autres quitte à ce qu'il y ait des données manquantes dans certaines colonnes. Mais on peut aussi spécifier que les données doivent être placées dans de nouvelles colonnes (`axis=1`) sur une même ligne s'il y a concordance de l'index."
   ]
  },
  {
   "cell_type": "code",
   "execution_count": 11,
   "metadata": {},
   "outputs": [
    {
     "name": "stdout",
     "output_type": "stream",
     "text": [
      "  Nationality  Age  Player_name  Player_club_id     ValueEUR\n",
      "0   Argentina   33          NaN             NaN          NaN\n",
      "4   Argentina   32          NaN             NaN          NaN\n",
      "1   Argentina   26    P. Dybala            45.0   95000000.0\n",
      "2   Argentina   27  E. Martinez             2.0   33000000.0\n",
      "3   Argentina   24  G. Lo Celso            18.0   38500000.0\n",
      "5      France   21    K. Mbappé            73.0  185500000.0\n",
      "6      France   27  J. Veretout            52.0   26500000.0\n",
      "7      France   33    H. Lloris            18.0   26000000.0\n",
      "\n",
      " Concaténation sur les colonnes :\n",
      "  Player_name Nationality\n",
      "0    L. Messi   Argentina\n",
      "4  N.Otamendi   Argentina \n",
      "\n",
      "1    26\n",
      "2    27\n",
      "3    24\n",
      "5    21\n",
      "6    27\n",
      "7    33\n",
      "Name: Age, dtype: int64\n",
      "   Player_club_id\n",
      "0              73\n",
      "2               2\n",
      "3              18\n",
      "5              73\n",
      "7              18\n",
      "  Player_name Nationality   Age  Player_club_id\n",
      "0    L. Messi   Argentina   NaN            73.0\n",
      "4  N.Otamendi   Argentina   NaN             NaN\n",
      "1         NaN         NaN  26.0             NaN\n",
      "2         NaN         NaN  27.0             2.0\n",
      "3         NaN         NaN  24.0            18.0\n",
      "5         NaN         NaN  21.0            73.0\n",
      "6         NaN         NaN  27.0             NaN\n",
      "7         NaN         NaN  33.0            18.0\n"
     ]
    }
   ],
   "source": [
    "selection=pd.concat([selection_1,selection_2])\n",
    "print(selection)\n",
    "df1=data_players[mask_selection_1][['Player_name','Nationality']]\n",
    "serie2=data_players[mask_selection_2]['Age']\n",
    "df3=data_players[mask_selection_3][['Player_club_id']]\n",
    "print('\\n Concaténation sur les colonnes :')\n",
    "print(df1,'\\n')\n",
    "print(serie2)\n",
    "print(df3)\n",
    "df_concatene=pd.concat([df1,serie2,df3],axis=1)\n",
    "print(df_concatene)"
   ]
  },
  {
   "attachments": {},
   "cell_type": "markdown",
   "metadata": {},
   "source": [
    "On peut éventuellement avoir le souhait de traiter les valeurs manquantes de différentes manières. Voici quelques exemples"
   ]
  },
  {
   "cell_type": "code",
   "execution_count": 12,
   "metadata": {},
   "outputs": [
    {
     "name": "stdout",
     "output_type": "stream",
     "text": [
      "  Nationality  Age Player_name  Player_club_id  ValueEUR\n",
      "0   Argentina   33         NaN             NaN       NaN\n",
      "4   Argentina   32         NaN             NaN       NaN \n",
      "\n",
      "  Nationality  Age  Player_name  Player_club_id     ValueEUR\n",
      "1   Argentina   26    P. Dybala            45.0   95000000.0\n",
      "2   Argentina   27  E. Martinez             2.0   33000000.0\n",
      "3   Argentina   24  G. Lo Celso            18.0   38500000.0\n",
      "5      France   21    K. Mbappé            73.0  185500000.0\n",
      "6      France   27  J. Veretout            52.0   26500000.0\n",
      "7      France   33    H. Lloris            18.0   26000000.0 \n",
      "\n",
      "  Nationality  Age  Player_name  Player_club_id     ValueEUR\n",
      "1   Argentina   26    P. Dybala            45.0   95000000.0\n",
      "2   Argentina   27  E. Martinez             2.0   33000000.0\n",
      "3   Argentina   24  G. Lo Celso            18.0   38500000.0\n",
      "5      France   21    K. Mbappé            73.0  185500000.0\n",
      "6      France   27  J. Veretout            52.0   26500000.0\n",
      "7      France   33    H. Lloris            18.0   26000000.0 \n",
      "\n",
      "  Nationality  Age          Player_name  Player_club_id     ValueEUR\n",
      "0   Argentina   33  Footballeur inconnu             NaN          0.0\n",
      "4   Argentina   32  Footballeur inconnu             NaN          0.0\n",
      "1   Argentina   26            P. Dybala            45.0   95000000.0\n",
      "2   Argentina   27          E. Martinez             2.0   33000000.0\n",
      "3   Argentina   24          G. Lo Celso            18.0   38500000.0\n",
      "5      France   21            K. Mbappé            73.0  185500000.0\n",
      "6      France   27          J. Veretout            52.0   26500000.0\n",
      "7      France   33            H. Lloris            18.0   26000000.0\n"
     ]
    }
   ],
   "source": [
    "print(selection[selection['Player_name'].isnull()],'\\n')\n",
    "print(selection[selection['Player_name'].notnull()],'\\n')\n",
    "print(selection.dropna(inplace=False),'\\n')\n",
    "print(selection.fillna(value={'Player_name':'Footballeur inconnu','ValueEUR':0}))"
   ]
  },
  {
   "cell_type": "markdown",
   "metadata": {},
   "source": [
    "Il peut se trouver que le format reconnu par pandas pour les données d'une colonne ne soit pas celui que l'on désirait pour la manipulation des données et que l'on doive (dans la mesure du possible) forcer le changement de ce format. On donne ci-dessous un exemple avec des données représentant des événements pour lesquels les colonnes donnent des informations sur l'année, le mois et le jour auxquels ils se sont produits. On souhaite former dans une nouvelle colonne une information synthétisant ces différentes informations en une seule à un format de date."
   ]
  },
  {
   "cell_type": "code",
   "execution_count": 13,
   "metadata": {},
   "outputs": [
    {
     "name": "stdout",
     "output_type": "stream",
     "text": [
      "   année  mois  jour\n",
      "0   2021    10    26\n",
      "1   2020     6    26\n",
      "2   2020     8    26\n",
      "3   2022     2    26\n",
      "4   2021     9    26\n",
      "5   2020     5    26\n",
      "6   2020     2    26\n",
      "7   2020     8    26\n",
      "8   2021     3    26\n",
      "9   2021    11    26\n",
      "type mois :  <class 'numpy.int32'>\n",
      "type mois bis :  <class 'str'>\n",
      "type date :  <class 'str'>\n",
      "datetime64[ns]\n",
      "durée entre deux premières dates :  -487 days +00:00:00\n"
     ]
    }
   ],
   "source": [
    "df_evenements=pd.DataFrame({'année':np.random.randint(2020,2023,100),'mois':np.random.randint(1,12,100),'jour':np.random.randint(1,30)})\n",
    "print(df_evenements.head(10))\n",
    "print('type mois : ',type(df_evenements.mois[0]))\n",
    "df_evenements['mois_bis']=df_evenements.mois.astype('str')\n",
    "print('type mois bis : ',type(df_evenements.mois_bis[0]))\n",
    "df_evenements['mois_bis']=df_evenements['mois_bis'].str.zfill(2)\n",
    "df_evenements['date']=df_evenements.année.astype(str)+'-'+df_evenements.mois_bis+'-'+df_evenements.jour.astype(str)\n",
    "print('type date : ',type(df_evenements['date'][0]))\n",
    "df_evenements['date']=df_evenements['date'].astype('datetime64[ns]')\n",
    "print(df_evenements['date'].dtype)\n",
    "print('durée entre deux premières dates : ',df_evenements['date'][1]-df_evenements['date'][0])"
   ]
  },
  {
   "attachments": {},
   "cell_type": "markdown",
   "metadata": {},
   "source": [
    "### Les jointures\n",
    "Pour avoir des jointures plus élaborées pour rassembler différentes sources de données on utilise la fonction `merge()`\n",
    "La fonction nécessite de préciser la table de gauche (que l'on appellera ici `x`) via le paramètre `left` et une table de droite (que l'on appellera ici `y`) via le paramètre `right`.\n",
    "Les types de jointure sont les suivants (on le spécifie dans la fonction avec le paramètre `how`) :\n",
    "\n",
    "* `left` : toutes les lignes de `x` et toutes les colonnes des deux tables (avec une correspondance entre tables établie sur les colonnes respectivement mentionnées dans `left_on` et `right_on`). Les lignes de `x` pour lesquelles il n'y a pas de correspondance dans `y` auront des valeurs `NaN` dans les colonnes associées initialement à `y`. S'il y a plusieurs correspondances toutes les combinaisons possibles sont retournées.\n",
    "\n",
    "* `inner` : toutes les lignes de `x` pour lesquelles il y a des valeurs correspondantes dans `y`, et toutes les colonnes de `x` et `y`. S'il y a plusieurs correspondances toutes les combinaisons possibles sont retournées.\n",
    "\n",
    "* `outer` : toutes les lignes de `x` et de `y` et toutes les colonnes de `x` et de `y`. Les lignes de `x` pour lesquelles il n'y a pas de correspondance dans `y` auront des valeurs `NaN` dans les colonnes associées initialement à `y` et les lignes de `y` pour lesquelles il n'y a pas de correspondance dans `x` auront des valeurs `NaN` dans les colonnes associées initialement à `x`"
   ]
  },
  {
   "cell_type": "code",
   "execution_count": 14,
   "metadata": {},
   "outputs": [
    {
     "name": "stdout",
     "output_type": "stream",
     "text": [
      "left :\n",
      "           Club_name  Player_name\n",
      "0        Aston Villa  E. Martinez\n",
      "1            Chelsea          NaN\n",
      "2  Tottenham Hotspur  G. Lo Celso\n",
      "3  Tottenham Hotspur    H. Lloris\n",
      "\n",
      "inner :\n",
      "           Club_name  Player_name\n",
      "0        Aston Villa  E. Martinez\n",
      "1  Tottenham Hotspur  G. Lo Celso\n",
      "2  Tottenham Hotspur    H. Lloris\n",
      "\n",
      "outer :\n",
      "           Club_name  Player_name\n",
      "0        Aston Villa  E. Martinez\n",
      "1            Chelsea          NaN\n",
      "2  Tottenham Hotspur  G. Lo Celso\n",
      "3  Tottenham Hotspur    H. Lloris\n",
      "4                NaN     L. Messi\n",
      "5                NaN    K. Mbappé\n",
      "6                NaN    P. Dybala\n",
      "7                NaN   N.Otamendi\n",
      "8                NaN  J. Veretout\n"
     ]
    }
   ],
   "source": [
    "dico_clubs={\n",
    "    'Club_id':[2,5,18,45,52,71,73,234],\n",
    "    'Club_name':['Aston Villa','Chelsea','Tottenham Hotspur','Juventus','Roma','FC Nantes','Paris Saint-Germain','SL Benfica'],\n",
    "    'League':['English Premier League']*3+['Italian Serie A']*2+['French Ligue 1']*2+['Portuguese Liga']\n",
    "}\n",
    "data_clubs=pd.DataFrame(dico_clubs)\n",
    "data_clubs_anglais=data_clubs[(data_clubs.League=='English Premier League')]\n",
    "\n",
    "qui_qui_joue_dans_ces_clubs=pd.merge(left=data_clubs_anglais,right=data_players,how='left',left_on=['Club_id'],right_on=['Player_club_id'])\n",
    "print(f\"left :\\n{qui_qui_joue_dans_ces_clubs[['Club_name','Player_name']]}\\n\")\n",
    "\n",
    "qui_qui_joue_dans_ces_clubs_2=pd.merge(left=data_clubs_anglais,right=data_players,how='inner',left_on=['Club_id'],right_on=['Player_club_id'])\n",
    "print(f\"inner :\\n{qui_qui_joue_dans_ces_clubs_2[['Club_name','Player_name']]}\\n\")\n",
    "\n",
    "qui_qui_joue_dans_ces_clubs_3=pd.merge(left=data_clubs_anglais,right=data_players,how='outer',left_on=['Club_id'],right_on=['Player_club_id'])\n",
    "print(f\"outer :\\n{qui_qui_joue_dans_ces_clubs_3[['Club_name','Player_name']]}\")"
   ]
  },
  {
   "attachments": {},
   "cell_type": "markdown",
   "metadata": {},
   "source": [
    "Pour effectuer des calculs d'agrégats (avec des fonction d'agrégation `sum`, `mean`, `count`, `median`, ...) sur certaines colonnes on peut utiliser la méthode `groupby` qui permet d'expliciter des critères sur une ou plusieurs colonnes qui seront utilisées comme index dans le dataframe renvoyé. Si on veut pouvoir appliquer différentes fonctions d'agrégation selon les colonnes on utilise la méthode `agg`. \n",
    "\n",
    "La méthode `groupby` s'applique généralement aux colonnes de la dataframe mais on peut aussi grouper selon les valeurs de l'index en utilisant son nom (et s'il n'en a pas on peut lui en attribuer un avec une syntaxe du type `mon_df.index.name='nom_voulu'` ou encore utiliser le paramètre `level` qui permet de spécifier le niveau hiérarchique de la colonne en index sur laquelle on veut faire porter le regroupement soit par exemple `level=0` )\n",
    "\n",
    "Une colonne du dataframe utilisée comme critère de regroupement est par défaut placée en index du dataframe renvoyé. Le paramètre `as_index` permet d'effectuer le choix contraire en lui attribuant la valeur `False`"
   ]
  },
  {
   "cell_type": "code",
   "execution_count": 15,
   "metadata": {},
   "outputs": [
    {
     "name": "stdout",
     "output_type": "stream",
     "text": [
      "joueurs_par_clubs :\n",
      "             Club_name  Player_name                  League  Age   ValueEUR\n",
      "0          Aston Villa  E. Martinez  English Premier League   27   33000000\n",
      "1    Tottenham Hotspur  G. Lo Celso  English Premier League   24   38500000\n",
      "2    Tottenham Hotspur    H. Lloris  English Premier League   33   26000000\n",
      "3             Juventus    P. Dybala         Italian Serie A   26   95000000\n",
      "4                 Roma  J. Veretout         Italian Serie A   27   26500000\n",
      "5  Paris Saint-Germain     L. Messi          French Ligue 1   33  103500000\n",
      "6  Paris Saint-Germain    K. Mbappé          French Ligue 1   21  185500000\n",
      "7           SL Benfica   N.Otamendi         Portuguese Liga   32   13500000\n",
      "\n",
      "joueurs_par_clubs_reindexe :\n",
      "                                            Player_name  Age   ValueEUR\n",
      "League                 Club_name                                       \n",
      "English Premier League Aston Villa          E. Martinez   27   33000000\n",
      "                       Tottenham Hotspur    G. Lo Celso   24   38500000\n",
      "                       Tottenham Hotspur      H. Lloris   33   26000000\n",
      "Italian Serie A        Juventus               P. Dybala   26   95000000\n",
      "                       Roma                 J. Veretout   27   26500000\n",
      "French Ligue 1         Paris Saint-Germain     L. Messi   33  103500000\n",
      "                       Paris Saint-Germain    K. Mbappé   21  185500000\n",
      "Portuguese Liga        SL Benfica            N.Otamendi   32   13500000\n",
      "\n",
      "Calculs âge et valeur moyenne par League via index :\n",
      "                         Age     ValueEUR\n",
      "League                                   \n",
      "English Premier League  28.0   32500000.0\n",
      "French Ligue 1          27.0  144500000.0\n",
      "Italian Serie A         26.5   60750000.0\n",
      "Portuguese Liga         32.0   13500000.0\n",
      "\n",
      "Calculs âge et valeur moyenne par Club via index :\n",
      "                      Age     ValueEUR\n",
      "Club_name                             \n",
      "Aston Villa          27.0   33000000.0\n",
      "Juventus             26.0   95000000.0\n",
      "Paris Saint-Germain  27.0  144500000.0\n",
      "Roma                 27.0   26500000.0\n",
      "SL Benfica           32.0   13500000.0\n",
      "Tottenham Hotspur    28.5   32250000.0\n",
      "\n",
      "Calculs âge et valeur moyenne par league :\n",
      "                         Age     ValueEUR\n",
      "League                                   \n",
      "English Premier League  28.0   32500000.0\n",
      "French Ligue 1          27.0  144500000.0\n",
      "Italian Serie A         26.5   60750000.0\n",
      "Portuguese Liga         32.0   13500000.0\n",
      "\n",
      "Calculs divers par league :\n",
      "                         Age     ValueEUR           \n",
      "                        mean         mean        sum\n",
      "League                                              \n",
      "English Premier League  28.0   32500000.0   97500000\n",
      "French Ligue 1          27.0  144500000.0  289000000\n",
      "Italian Serie A         26.5   60750000.0  121500000\n",
      "Portuguese Liga         32.0   13500000.0   13500000\n",
      "\n"
     ]
    }
   ],
   "source": [
    "joueurs_par_clubs=pd.merge(left=data_clubs,right=data_players,how='inner',left_on=['Club_id'],right_on=['Player_club_id'])[['Club_name','Player_name','League','Age','ValueEUR']]\n",
    "print(f\"joueurs_par_clubs :\\n{joueurs_par_clubs}\\n\")\n",
    "joueurs_par_clubs_reindexe=joueurs_par_clubs.set_index(['League','Club_name'],inplace=False)\n",
    "print(f\"joueurs_par_clubs_reindexe :\\n{joueurs_par_clubs_reindexe}\\n\")\n",
    "calculs_moyennes_par_league_via_index=joueurs_par_clubs_reindexe.groupby(['League'])[['Age','ValueEUR']].mean()\n",
    "calculs_moyennes_par_club_via_index=joueurs_par_clubs_reindexe.groupby(level=1)[['Age','ValueEUR']].mean()\n",
    "print(f'Calculs âge et valeur moyenne par League via index :\\n{calculs_moyennes_par_league_via_index}\\n')\n",
    "print(f'Calculs âge et valeur moyenne par Club via index :\\n{calculs_moyennes_par_club_via_index}\\n')\n",
    "calculs_moyennes_par_league=joueurs_par_clubs.groupby(['League'])[['Age','ValueEUR']].mean()\n",
    "print(f'Calculs âge et valeur moyenne par league :\\n{calculs_moyennes_par_league}\\n')\n",
    "calculs_divers_par_league=joueurs_par_clubs.groupby(['League']).agg({'Age':['mean'],'ValueEUR':['mean','sum']})\n",
    "print(f'Calculs divers par league :\\n{calculs_divers_par_league}\\n')"
   ]
  },
  {
   "attachments": {},
   "cell_type": "markdown",
   "metadata": {},
   "source": [
    "## Importer des données\n",
    "\n",
    "Pour importer des données depuis un fichier CSV, `pandas` propose la fonction `read_csv`. Parmi les paramètres que l'on peut utiliser on citera :\n",
    "\n",
    "* `sep` : séparateur de champs (par défaut la virgule)\n",
    "* `index_col` : numéro(s) de colonne(s) à utiliser pour l'index (par défaut `None`)\n",
    "* `decimal` : caractère représentant le passage aux décimales (par défaut `.`)\n",
    "* `encoding` : encodage des caractères (par défaut `utf-8`)"
   ]
  },
  {
   "cell_type": "code",
   "execution_count": 19,
   "metadata": {},
   "outputs": [
    {
     "name": "stdout",
     "output_type": "stream",
     "text": [
      "['ID', 'Name', 'FullName', 'Age', 'Height', 'Weight', 'PhotoUrl', 'Nationality', 'Overall', 'Potential', 'Growth', 'TotalStats', 'BaseStats', 'Positions', 'BestPosition', 'Club_id', 'ValueEUR', 'WageEUR', 'ReleaseClause', 'ClubPosition', 'ContractUntil', 'ClubNumber', 'ClubJoined', 'OnLoad', 'NationalTeam', 'NationalPosition', 'NationalNumber', 'PreferredFoot', 'IntReputation', 'WeakFoot', 'SkillMoves', 'AttackingWorkRate', 'DefensiveWorkRate', 'PaceTotal', 'ShootingTotal', 'PassingTotal', 'DribblingTotal', 'DefendingTotal', 'PhysicalityTotal', 'Crossing', 'Finishing', 'HeadingAccuracy', 'ShortPassing', 'Volleys', 'Dribbling', 'Curve', 'FKAccuracy', 'LongPassing', 'BallControl', 'Acceleration', 'SprintSpeed', 'Agility', 'Reactions', 'Balance', 'ShotPower', 'Jumping', 'Stamina', 'Strength', 'LongShots', 'Aggression', 'Interceptions', 'Positioning', 'Vision', 'Penalties', 'Composure', 'Marking', 'StandingTackle', 'SlidingTackle', 'GKDiving', 'GKHandling', 'GKKicking', 'GKPositioning', 'GKReflexes', 'STRating', 'LWRating', 'LFRating', 'CFRating', 'RFRating', 'RWRating', 'CAMRating', 'LMRating', 'CMRating', 'RMRating', 'LWBRating', 'CDMRating', 'RWBRating', 'LBRating', 'CBRating', 'RBRating', 'GKRating']\n",
      "       ID               Name                      FullName  Age  Height\n",
      "0  158023           L. Messi                  Lionel Messi   33     170\n",
      "1   20801  Cristiano Ronaldo  C. Ronaldo dos Santos Aveiro   35     187\n",
      "2  188545     R. Lewandowski            Robert Lewandowski   31     185\n",
      "3  190871          Neymar Jr    Neymar da Silva Santos Jr.   28     175\n",
      "4  192985       K. De Bruyne               Kevin De Bruyne   29     181 \n",
      "\n",
      "['ID', 'Name', 'League', 'LeagueId', 'Overall', 'Attack', 'Midfield', 'Defence', 'TransferBudget', 'DomesticPrestige', 'IntPrestige', 'Players', 'StartingAverageAge', 'AllTeamAverageAge']\n",
      "     ID                    Name                      League\n",
      "0     1                 Arsenal  English Premier League (1)\n",
      "1     2             Aston Villa  English Premier League (1)\n",
      "2  1808  Brighton & Hove Albion  English Premier League (1)\n",
      "3  1796                 Burnley  English Premier League (1)\n",
      "4     5                 Chelsea  English Premier League (1)\n"
     ]
    }
   ],
   "source": [
    "data_joueurs = pd.read_csv('players.csv',sep=';')\n",
    "data_equipes=pd.read_csv('teams.csv',sep=';')\n",
    "print(list(data_joueurs.columns))\n",
    "print(data_joueurs[data_joueurs.columns[:5]].head(5),'\\n')\n",
    "print(list(data_equipes.columns))\n",
    "print(data_equipes[data_equipes.columns[:3]].head(5))"
   ]
  },
  {
   "cell_type": "markdown",
   "metadata": {},
   "source": [
    "## Utiliser un MultiIndex"
   ]
  },
  {
   "cell_type": "code",
   "execution_count": 18,
   "metadata": {},
   "outputs": [
    {
     "name": "stdout",
     "output_type": "stream",
     "text": [
      "df base :                                         Height                  ValueEUR\n",
      "                                         count        mean          mean\n",
      "BestPosition League                                                     \n",
      "CAM          English Premier League (1)    100  177.980000  1.421225e+07\n",
      "             French Ligue 1 (1)             95  176.757895  5.626579e+06\n",
      "             German 1. Bundesliga (1)       84  179.250000  1.281071e+07\n",
      "             Italian Serie A (1)            82  180.182927  1.098012e+07\n",
      "             Spain Primera Division (1)     84  176.440476  1.300179e+07\n",
      "...                                        ...         ...           ...\n",
      "ST           English Premier League (1)     83  182.216867  1.279078e+07\n",
      "             French Ligue 1 (1)             78  183.205128  8.583654e+06\n",
      "             German 1. Bundesliga (1)       80  185.750000  9.394062e+06\n",
      "             Italian Serie A (1)            66  186.181818  1.044091e+07\n",
      "             Spain Primera Division (1)     88  182.022727  1.001392e+07\n",
      "\n",
      "[75 rows x 3 columns]\n",
      "df_unstacke :                                   Height                     \\\n",
      "                                  count                      \n",
      "League       English Premier League (1) French Ligue 1 (1)   \n",
      "BestPosition                                                 \n",
      "CAM                                 100                 95   \n",
      "CB                                  119                119   \n",
      "CDM                                  43                 48   \n",
      "CF                                    5                  3   \n",
      "CM                                   50                 40   \n",
      "GK                                   66                 64   \n",
      "LB                                   39                 32   \n",
      "LM                                   21                 21   \n",
      "LW                                    2                  5   \n",
      "LWB                                  14                 13   \n",
      "RB                                   35                 32   \n",
      "RM                                   38                 26   \n",
      "RW                                    9                 11   \n",
      "RWB                                  13                  7   \n",
      "ST                                   83                 78   \n",
      "\n",
      "                                                           \\\n",
      "                                                            \n",
      "League       German 1. Bundesliga (1) Italian Serie A (1)   \n",
      "BestPosition                                                \n",
      "CAM                                84                  82   \n",
      "CB                                110                 128   \n",
      "CDM                                37                  41   \n",
      "CF                                  5                   6   \n",
      "CM                                 34                  51   \n",
      "GK                                 59                  61   \n",
      "LB                                 21                  22   \n",
      "LM                                 21                  20   \n",
      "LW                                  1                   6   \n",
      "LWB                                 9                   7   \n",
      "RB                                 22                  20   \n",
      "RM                                 32                  33   \n",
      "RW                                  8                  10   \n",
      "RWB                                12                  13   \n",
      "ST                                 80                  66   \n",
      "\n",
      "                                                                    \\\n",
      "                                                              mean   \n",
      "League       Spain Primera Division (1) English Premier League (1)   \n",
      "BestPosition                                                         \n",
      "CAM                                  84                 177.980000   \n",
      "CB                                  112                 187.731092   \n",
      "CDM                                  55                 182.209302   \n",
      "CF                                    2                 181.000000   \n",
      "CM                                   40                 179.400000   \n",
      "GK                                   68                 191.348485   \n",
      "LB                                   41                 178.846154   \n",
      "LM                                   32                 175.714286   \n",
      "LW                                    8                 172.500000   \n",
      "LWB                                   8                 178.285714   \n",
      "RB                                   51                 179.200000   \n",
      "RM                                   36                 176.921053   \n",
      "RW                                    8                 175.111111   \n",
      "RWB                                   3                 177.153846   \n",
      "ST                                   88                 182.216867   \n",
      "\n",
      "                                                                              \\\n",
      "                                                                               \n",
      "League       French Ligue 1 (1) German 1. Bundesliga (1) Italian Serie A (1)   \n",
      "BestPosition                                                                   \n",
      "CAM                  176.757895               179.250000          180.182927   \n",
      "CB                   186.310924               188.490909          187.078125   \n",
      "CDM                  181.833333               182.405405          182.121951   \n",
      "CF                   176.333333               182.800000          176.333333   \n",
      "CM                   179.400000               180.970588          181.254902   \n",
      "GK                   188.125000               190.389831          190.672131   \n",
      "LB                   177.187500               181.142857          182.227273   \n",
      "LM                   176.523810               179.190476          181.300000   \n",
      "LW                   180.200000               180.000000          174.833333   \n",
      "LWB                  176.153846               177.888889          179.571429   \n",
      "RB                   177.656250               180.909091          183.000000   \n",
      "RM                   177.961538               179.093750          178.969697   \n",
      "RW                   174.000000               180.125000          174.900000   \n",
      "RWB                  177.571429               178.916667          180.692308   \n",
      "ST                   183.205128               185.750000          186.181818   \n",
      "\n",
      "                                                          ValueEUR  \\\n",
      "                                                              mean   \n",
      "League       Spain Primera Division (1) English Premier League (1)   \n",
      "BestPosition                                                         \n",
      "CAM                          176.440476               1.421225e+07   \n",
      "CB                           185.419643               1.189164e+07   \n",
      "CDM                          182.600000               1.914942e+07   \n",
      "CF                           184.000000               2.032000e+07   \n",
      "CM                           181.375000               1.731620e+07   \n",
      "GK                           187.676471               9.831136e+06   \n",
      "LB                           177.073171               1.031487e+07   \n",
      "LM                           176.562500               1.743929e+07   \n",
      "LW                           174.625000               9.350000e+07   \n",
      "LWB                          175.250000               1.569286e+07   \n",
      "RB                           177.431373               1.192043e+07   \n",
      "RM                           177.222222               8.172368e+06   \n",
      "RW                           176.375000               2.986667e+07   \n",
      "RWB                          177.000000               1.124615e+07   \n",
      "ST                           182.022727               1.279078e+07   \n",
      "\n",
      "                                                                              \\\n",
      "                                                                               \n",
      "League       French Ligue 1 (1) German 1. Bundesliga (1) Italian Serie A (1)   \n",
      "BestPosition                                                                   \n",
      "CAM                5.626579e+06             1.281071e+07        1.098012e+07   \n",
      "CB                 5.076471e+06             9.544091e+06        8.131719e+06   \n",
      "CDM                6.595833e+06             9.732432e+06        9.432317e+06   \n",
      "CF                 3.433333e+07             4.140000e+06        2.158333e+07   \n",
      "CM                 1.042375e+07             1.410221e+07        1.308676e+07   \n",
      "GK                 4.932344e+06             6.051102e+06        8.117705e+06   \n",
      "LB                 5.417187e+06             7.263095e+06        7.385227e+06   \n",
      "LM                 4.370238e+06             1.076071e+07        7.776250e+06   \n",
      "LW                 3.484000e+07             7.500000e+06        1.298333e+07   \n",
      "LWB                4.736538e+06             8.355556e+06        4.371429e+06   \n",
      "RB                 4.959375e+06             8.086364e+06        5.387500e+06   \n",
      "RM                 6.033654e+06             8.301562e+06        8.935606e+06   \n",
      "RW                 2.009545e+07             5.125000e+06        5.770000e+06   \n",
      "RWB                7.796428e+06             9.164583e+06        5.492308e+06   \n",
      "ST                 8.583654e+06             9.394062e+06        1.044091e+07   \n",
      "\n",
      "                                         \n",
      "                                         \n",
      "League       Spain Primera Division (1)  \n",
      "BestPosition                             \n",
      "CAM                        1.300179e+07  \n",
      "CB                         9.697768e+06  \n",
      "CDM                        9.959182e+06  \n",
      "CF                         4.475000e+07  \n",
      "CM                         1.994700e+07  \n",
      "GK                         1.013419e+07  \n",
      "LB                         1.057378e+07  \n",
      "LM                         1.130078e+07  \n",
      "LW                         1.575000e+07  \n",
      "LWB                        1.579375e+07  \n",
      "RB                         8.737745e+06  \n",
      "RM                         6.280556e+06  \n",
      "RW                         1.130938e+07  \n",
      "RWB                        4.466667e+06  \n",
      "ST                         1.001392e+07  \n",
      "                                        Height                  ValueEUR\n",
      "                                         count        mean          mean\n",
      "BestPosition League                                                     \n",
      "CAM          English Premier League (1)    100  177.980000  1.421225e+07\n",
      "             French Ligue 1 (1)             95  176.757895  5.626579e+06\n",
      "             German 1. Bundesliga (1)       84  179.250000  1.281071e+07\n",
      "             Italian Serie A (1)            82  180.182927  1.098012e+07\n",
      "             Spain Primera Division (1)     84  176.440476  1.300179e+07\n",
      "...                                        ...         ...           ...\n",
      "ST           English Premier League (1)     83  182.216867  1.279078e+07\n",
      "             French Ligue 1 (1)             78  183.205128  8.583654e+06\n",
      "             German 1. Bundesliga (1)       80  185.750000  9.394062e+06\n",
      "             Italian Serie A (1)            66  186.181818  1.044091e+07\n",
      "             Spain Primera Division (1)     88  182.022727  1.001392e+07\n",
      "\n",
      "[75 rows x 3 columns]\n",
      "stats french central attacking midfielder : \n",
      " count     95.000000\n",
      "mean     176.757895\n",
      "Name: (CAM, French Ligue 1 (1)), dtype: float64\n",
      "                                         count        mean\n",
      "BestPosition League                                       \n",
      "CAM          English Premier League (1)    100  177.980000\n",
      "             French Ligue 1 (1)             95  176.757895\n",
      "             German 1. Bundesliga (1)       84  179.250000\n",
      "             Italian Serie A (1)            82  180.182927\n",
      "             Spain Primera Division (1)     84  176.440476\n",
      "CB           English Premier League (1)    119  187.731092\n",
      "             French Ligue 1 (1)            119  186.310924\n",
      "             German 1. Bundesliga (1)      110  188.490909\n",
      "             Italian Serie A (1)           128  187.078125\n",
      "             Spain Primera Division (1)    112  185.419643\n",
      "CDM          English Premier League (1)     43  182.209302\n",
      "             French Ligue 1 (1)             48  181.833333\n",
      "             German 1. Bundesliga (1)       37  182.405405\n",
      "             Italian Serie A (1)            41  182.121951\n",
      "             Spain Primera Division (1)     55  182.600000\n",
      "CF           English Premier League (1)      5  181.000000\n",
      "             French Ligue 1 (1)              3  176.333333\n",
      "             German 1. Bundesliga (1)        5  182.800000\n",
      "             Italian Serie A (1)             6  176.333333\n",
      "             Spain Primera Division (1)      2  184.000000\n",
      "CM           English Premier League (1)     50  179.400000\n",
      "             French Ligue 1 (1)             40  179.400000\n",
      "             German 1. Bundesliga (1)       34  180.970588\n",
      "             Italian Serie A (1)            51  181.254902\n",
      "             Spain Primera Division (1)     40  181.375000\n",
      "GK           English Premier League (1)     66  191.348485\n",
      "             French Ligue 1 (1)             64  188.125000\n",
      "             German 1. Bundesliga (1)       59  190.389831\n",
      "             Italian Serie A (1)            61  190.672131\n",
      "             Spain Primera Division (1)     68  187.676471\n",
      "                                        Height                  ValueEUR\n",
      "                                         count        mean          mean\n",
      "BestPosition League                                                     \n",
      "CAM          English Premier League (1)    100  177.980000  1.421225e+07\n",
      "             French Ligue 1 (1)             95  176.757895  5.626579e+06\n",
      "             German 1. Bundesliga (1)       84  179.250000  1.281071e+07\n",
      "             Italian Serie A (1)            82  180.182927  1.098012e+07\n",
      "             Spain Primera Division (1)     84  176.440476  1.300179e+07\n",
      "CB           English Premier League (1)    119  187.731092  1.189164e+07\n",
      "             French Ligue 1 (1)            119  186.310924  5.076471e+06\n",
      "             German 1. Bundesliga (1)      110  188.490909  9.544091e+06\n",
      "             Italian Serie A (1)           128  187.078125  8.131719e+06\n",
      "             Spain Primera Division (1)    112  185.419643  9.697768e+06\n",
      "CDM          English Premier League (1)     43  182.209302  1.914942e+07\n",
      "             French Ligue 1 (1)             48  181.833333  6.595833e+06\n",
      "             German 1. Bundesliga (1)       37  182.405405  9.732432e+06\n",
      "             Italian Serie A (1)            41  182.121951  9.432317e+06\n",
      "             Spain Primera Division (1)     55  182.600000  9.959182e+06\n",
      "CF           English Premier League (1)      5  181.000000  2.032000e+07\n",
      "             French Ligue 1 (1)              3  176.333333  3.433333e+07\n",
      "             German 1. Bundesliga (1)        5  182.800000  4.140000e+06\n",
      "             Italian Serie A (1)             6  176.333333  2.158333e+07\n",
      "             Spain Primera Division (1)      2  184.000000  4.475000e+07\n",
      "CM           English Premier League (1)     50  179.400000  1.731620e+07\n",
      "             French Ligue 1 (1)             40  179.400000  1.042375e+07\n",
      "             German 1. Bundesliga (1)       34  180.970588  1.410221e+07\n",
      "             Italian Serie A (1)            51  181.254902  1.308676e+07\n",
      "             Spain Primera Division (1)     40  181.375000  1.994700e+07\n",
      "GK           English Premier League (1)     66  191.348485  9.831136e+06\n",
      "             French Ligue 1 (1)             64  188.125000  4.932344e+06\n",
      "             German 1. Bundesliga (1)       59  190.389831  6.051102e+06\n",
      "             Italian Serie A (1)            61  190.672131  8.117705e+06\n",
      "             Spain Primera Division (1)     68  187.676471  1.013419e+07\n"
     ]
    }
   ],
   "source": [
    "mask=data_equipes['LeagueId'].isin([13,16,19,31,53])\n",
    "data_equipes_r=data_equipes[mask]\n",
    "df_data_joueurs_clubs=pd.merge(data_joueurs,data_equipes_r,how='inner',left_on='Club_id',right_on='ID')[['BestPosition','League','ValueEUR','Height' ]]\n",
    "#print(df_data_joueurs_clubs)\n",
    "df_stats_positions=df_data_joueurs_clubs.groupby(['BestPosition','League']).agg({'Height':['count','mean'],'ValueEUR':['mean']})\n",
    "print('df base :',df_stats_positions)\n",
    "#(df_stats_positions.index)\n",
    "#print(df_stats_positions.columns)\n",
    "#print('level values : ',df_stats_positions.index.get_level_values(0))\n",
    "df_unstacke=df_stats_positions.unstack(level=1)\n",
    "print('df_unstacke : ',df_unstacke)\n",
    "df_stacke=df_unstacke.stack(level=2)\n",
    "print(df_stacke)\n",
    "print('stats french central attacking midfielder : \\n',df_stats_positions.loc[('CAM','French Ligue 1 (1)'),'Height'])\n",
    "print(df_stats_positions.loc[slice('CAM','GK'),'Height'])\n",
    "print(df_stats_positions.loc[(slice('CAM','GK'),slice(None))])"
   ]
  },
  {
   "attachments": {},
   "cell_type": "markdown",
   "metadata": {},
   "source": [
    "**Question 1** : Afficher le tableau présentant l'âge moyen et les moyennes, médianes et valeurs maximales pour les revenus (`WageEUR`) à l'intérieur de chaque club de ligue 1 en France."
   ]
  },
  {
   "cell_type": "code",
   "execution_count": 38,
   "metadata": {},
   "outputs": [
    {
     "name": "stdout",
     "output_type": "stream",
     "text": [
      "                Name  Age  Club_id  WageEUR\n",
      "0           L. Messi   33     73.0   320000\n",
      "1  Cristiano Ronaldo   35     45.0   220000\n",
      "2     R. Lewandowski   31     21.0   270000\n",
      "3          Neymar Jr   28     73.0   270000\n",
      "4       K. De Bruyne   29     10.0   370000 \n",
      "         ID                      Name              League\n",
      "20      69                 AS Monaco  French Ligue 1 (1)\n",
      "21    1819         AS Saint-Ã‰tienne  French Ligue 1 (1)\n",
      "22    1530                Angers SCO  French Ligue 1 (1)\n",
      "23  110569                 Dijon FCO  French Ligue 1 (1)\n",
      "24      59  FC Girondins de Bordeaux  French Ligue 1 (1) \n",
      "\n",
      "\n",
      "      Name_x          Name_y  Age  WageEUR\n",
      "0  AS Monaco   W. Ben Yedder   29    90000\n",
      "1  AS Monaco      K. Volland   27    73000\n",
      "2  AS Monaco      B. Lecomte   29    46000\n",
      "3  AS Monaco      A. Golovin   24    48000\n",
      "4  AS Monaco  Gelson Martins   25    53000 \n",
      "\n",
      "\n"
     ]
    }
   ],
   "source": [
    "\"\"\"\n",
    "Pour chaque club de ligue 1 en France :\n",
    "- age moyen des joueur\n",
    "- moyenne, médianes, valeurs max des revenus\n",
    "\"\"\"\n",
    "teamMask = (data_equipes.League == 'French Ligue 1 (1)')\n",
    "teamsDataNeeded = data_equipes[teamMask][['ID', 'Name', 'League']]\n",
    "playerDataNeeded = data_joueurs[['Name', 'Age', 'Club_id', 'WageEUR']]\n",
    "print(playerDataNeeded.head(5), \"\\n\", teamsDataNeeded.head(5), \"\\n\\n\")\n",
    "\n",
    "mergedTab = pd.merge(left=teamsDataNeeded, right=playerDataNeeded, left_on=['ID'],right_on=['Club_id'])[['Name_x', 'Name_y', 'Age', 'WageEUR']]\n",
    "mergedTab.rename(columns={'Name_x': 'Club_Name', 'Name_y': 'Player_Name'})\n",
    "print(mergedTab.head(5), \"\\n\\n\")\n",
    "# TODO: groupby club -> age.mean, WageEUR.mean, ...\n"
   ]
  },
  {
   "attachments": {},
   "cell_type": "markdown",
   "metadata": {},
   "source": [
    "**Question 2** : Comparer avec des diagrammes en boîtes à moustaches (`plt.boxplot`) les salaires de ligue 1 et de ligue 2."
   ]
  },
  {
   "cell_type": "code",
   "execution_count": null,
   "metadata": {},
   "outputs": [],
   "source": []
  },
  {
   "attachments": {},
   "cell_type": "markdown",
   "metadata": {},
   "source": [
    "**Question 3** : Afficher un diagramme en barres représentant l'évaluation des compétences en dribble, accélération, agilité et vision de jeu (`Dribbling`, `Acceleration`, `Agility`, `Vision`) pour un joueur dont on spécifie l'identifiant `ID`."
   ]
  },
  {
   "cell_type": "code",
   "execution_count": null,
   "metadata": {},
   "outputs": [],
   "source": []
  },
  {
   "attachments": {},
   "cell_type": "markdown",
   "metadata": {},
   "source": [
    "**Question 4** : Représenter la distribution des salaires parmi les joueurs appartenant à des équipes ayant un budget de transfert supérieur ou égal à 50 millions (représentation par intervalles de 50000 euros d'amplitude)."
   ]
  },
  {
   "cell_type": "code",
   "execution_count": null,
   "metadata": {},
   "outputs": [],
   "source": []
  }
 ],
 "metadata": {
  "kernelspec": {
   "display_name": "Python 3",
   "language": "python",
   "name": "python3"
  },
  "language_info": {
   "codemirror_mode": {
    "name": "ipython",
    "version": 3
   },
   "file_extension": ".py",
   "mimetype": "text/x-python",
   "name": "python",
   "nbconvert_exporter": "python",
   "pygments_lexer": "ipython3",
   "version": "3.11.2"
  },
  "orig_nbformat": 4,
  "vscode": {
   "interpreter": {
    "hash": "f81cdf8980b2d349ce6926314a667601d5ecc3ab2c2efdd8489a092e7f4c9494"
   }
  }
 },
 "nbformat": 4,
 "nbformat_minor": 2
}
