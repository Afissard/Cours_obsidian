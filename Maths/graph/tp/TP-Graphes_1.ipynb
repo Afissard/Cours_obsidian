{
 "cells": [
  {
   "cell_type": "markdown",
   "id": "d415db8f",
   "metadata": {},
   "source": [
    "# TP 1 : implémentation des concepts de base sur les graphes\n",
    "\n",
    "Dans ce TP, l'objectif est d'implémenter les opérations simples sur les graphes orientés. \n",
    "La représentation choisie pour les graphes est une matrice d'adjacence, qui sera représentée par un tableau de tableau (les noms des sommets sont des entiers et seront numérotés en commençant à 0). Nous considérons que le nombre de sommets du graphe ne pourra pas être modifié une fois le graphe construit."
   ]
  },
  {
   "cell_type": "markdown",
   "id": "c89449e2",
   "metadata": {},
   "source": [
    "## Import des modules utiles"
   ]
  },
  {
   "cell_type": "code",
   "execution_count": 1,
   "id": "df2246f7",
   "metadata": {},
   "outputs": [
    {
     "name": "stdout",
     "output_type": "stream",
     "text": [
      "Defaulting to user installation because normal site-packages is not writeable\n",
      "Requirement already satisfied: numpy in c:\\users\\sacha_8crotws\\appdata\\roaming\\python\\python311\\site-packages (1.26.1)\n",
      "Note: you may need to restart the kernel to use updated packages.\n"
     ]
    }
   ],
   "source": [
    "%pip install numpy\n",
    "import numpy as np"
   ]
  },
  {
   "cell_type": "markdown",
   "id": "dceb8c25",
   "metadata": {},
   "source": [
    "## Définition des fonctions pour l'affichage des graphes (code entièrement donné)"
   ]
  },
  {
   "cell_type": "markdown",
   "id": "005d51f9",
   "metadata": {},
   "source": [
    "### Installation de graphviz pour pouvoir visualiser les graphes"
   ]
  },
  {
   "cell_type": "code",
   "execution_count": 3,
   "id": "e88950ae",
   "metadata": {},
   "outputs": [
    {
     "name": "stdout",
     "output_type": "stream",
     "text": [
      "Defaulting to user installation because normal site-packages is not writeableNote: you may need to restart the kernel to use updated packages.\n",
      "\n",
      "Requirement already satisfied: graphviz in c:\\users\\sacha_8crotws\\appdata\\roaming\\python\\python311\\site-packages (0.20.1)\n"
     ]
    },
    {
     "ename": "ExecutableNotFound",
     "evalue": "failed to execute WindowsPath('dot'), make sure the Graphviz executables are on your systems' PATH",
     "output_type": "error",
     "traceback": [
      "\u001b[1;31m---------------------------------------------------------------------------\u001b[0m",
      "\u001b[1;31mFileNotFoundError\u001b[0m                         Traceback (most recent call last)",
      "File \u001b[1;32m~\\AppData\\Roaming\\Python\\Python311\\site-packages\\graphviz\\backend\\execute.py:81\u001b[0m, in \u001b[0;36mrun_check\u001b[1;34m(cmd, input_lines, encoding, quiet, **kwargs)\u001b[0m\n\u001b[0;32m     80\u001b[0m     \u001b[38;5;28;01melse\u001b[39;00m:\n\u001b[1;32m---> 81\u001b[0m         proc \u001b[38;5;241m=\u001b[39m \u001b[43msubprocess\u001b[49m\u001b[38;5;241;43m.\u001b[39;49m\u001b[43mrun\u001b[49m\u001b[43m(\u001b[49m\u001b[43mcmd\u001b[49m\u001b[43m,\u001b[49m\u001b[43m \u001b[49m\u001b[38;5;241;43m*\u001b[39;49m\u001b[38;5;241;43m*\u001b[39;49m\u001b[43mkwargs\u001b[49m\u001b[43m)\u001b[49m\n\u001b[0;32m     82\u001b[0m \u001b[38;5;28;01mexcept\u001b[39;00m \u001b[38;5;167;01mOSError\u001b[39;00m \u001b[38;5;28;01mas\u001b[39;00m e:\n",
      "File \u001b[1;32mc:\\Program Files\\Python311\\Lib\\subprocess.py:548\u001b[0m, in \u001b[0;36mrun\u001b[1;34m(input, capture_output, timeout, check, *popenargs, **kwargs)\u001b[0m\n\u001b[0;32m    546\u001b[0m     kwargs[\u001b[38;5;124m'\u001b[39m\u001b[38;5;124mstderr\u001b[39m\u001b[38;5;124m'\u001b[39m] \u001b[38;5;241m=\u001b[39m PIPE\n\u001b[1;32m--> 548\u001b[0m \u001b[38;5;28;01mwith\u001b[39;00m \u001b[43mPopen\u001b[49m\u001b[43m(\u001b[49m\u001b[38;5;241;43m*\u001b[39;49m\u001b[43mpopenargs\u001b[49m\u001b[43m,\u001b[49m\u001b[43m \u001b[49m\u001b[38;5;241;43m*\u001b[39;49m\u001b[38;5;241;43m*\u001b[39;49m\u001b[43mkwargs\u001b[49m\u001b[43m)\u001b[49m \u001b[38;5;28;01mas\u001b[39;00m process:\n\u001b[0;32m    549\u001b[0m     \u001b[38;5;28;01mtry\u001b[39;00m:\n",
      "File \u001b[1;32mc:\\Program Files\\Python311\\Lib\\subprocess.py:1024\u001b[0m, in \u001b[0;36mPopen.__init__\u001b[1;34m(self, args, bufsize, executable, stdin, stdout, stderr, preexec_fn, close_fds, shell, cwd, env, universal_newlines, startupinfo, creationflags, restore_signals, start_new_session, pass_fds, user, group, extra_groups, encoding, errors, text, umask, pipesize, process_group)\u001b[0m\n\u001b[0;32m   1021\u001b[0m             \u001b[38;5;28mself\u001b[39m\u001b[38;5;241m.\u001b[39mstderr \u001b[38;5;241m=\u001b[39m io\u001b[38;5;241m.\u001b[39mTextIOWrapper(\u001b[38;5;28mself\u001b[39m\u001b[38;5;241m.\u001b[39mstderr,\n\u001b[0;32m   1022\u001b[0m                     encoding\u001b[38;5;241m=\u001b[39mencoding, errors\u001b[38;5;241m=\u001b[39merrors)\n\u001b[1;32m-> 1024\u001b[0m     \u001b[38;5;28;43mself\u001b[39;49m\u001b[38;5;241;43m.\u001b[39;49m\u001b[43m_execute_child\u001b[49m\u001b[43m(\u001b[49m\u001b[43margs\u001b[49m\u001b[43m,\u001b[49m\u001b[43m \u001b[49m\u001b[43mexecutable\u001b[49m\u001b[43m,\u001b[49m\u001b[43m \u001b[49m\u001b[43mpreexec_fn\u001b[49m\u001b[43m,\u001b[49m\u001b[43m \u001b[49m\u001b[43mclose_fds\u001b[49m\u001b[43m,\u001b[49m\n\u001b[0;32m   1025\u001b[0m \u001b[43m                        \u001b[49m\u001b[43mpass_fds\u001b[49m\u001b[43m,\u001b[49m\u001b[43m \u001b[49m\u001b[43mcwd\u001b[49m\u001b[43m,\u001b[49m\u001b[43m \u001b[49m\u001b[43menv\u001b[49m\u001b[43m,\u001b[49m\n\u001b[0;32m   1026\u001b[0m \u001b[43m                        \u001b[49m\u001b[43mstartupinfo\u001b[49m\u001b[43m,\u001b[49m\u001b[43m \u001b[49m\u001b[43mcreationflags\u001b[49m\u001b[43m,\u001b[49m\u001b[43m \u001b[49m\u001b[43mshell\u001b[49m\u001b[43m,\u001b[49m\n\u001b[0;32m   1027\u001b[0m \u001b[43m                        \u001b[49m\u001b[43mp2cread\u001b[49m\u001b[43m,\u001b[49m\u001b[43m \u001b[49m\u001b[43mp2cwrite\u001b[49m\u001b[43m,\u001b[49m\n\u001b[0;32m   1028\u001b[0m \u001b[43m                        \u001b[49m\u001b[43mc2pread\u001b[49m\u001b[43m,\u001b[49m\u001b[43m \u001b[49m\u001b[43mc2pwrite\u001b[49m\u001b[43m,\u001b[49m\n\u001b[0;32m   1029\u001b[0m \u001b[43m                        \u001b[49m\u001b[43merrread\u001b[49m\u001b[43m,\u001b[49m\u001b[43m \u001b[49m\u001b[43merrwrite\u001b[49m\u001b[43m,\u001b[49m\n\u001b[0;32m   1030\u001b[0m \u001b[43m                        \u001b[49m\u001b[43mrestore_signals\u001b[49m\u001b[43m,\u001b[49m\n\u001b[0;32m   1031\u001b[0m \u001b[43m                        \u001b[49m\u001b[43mgid\u001b[49m\u001b[43m,\u001b[49m\u001b[43m \u001b[49m\u001b[43mgids\u001b[49m\u001b[43m,\u001b[49m\u001b[43m \u001b[49m\u001b[43muid\u001b[49m\u001b[43m,\u001b[49m\u001b[43m \u001b[49m\u001b[43mumask\u001b[49m\u001b[43m,\u001b[49m\n\u001b[0;32m   1032\u001b[0m \u001b[43m                        \u001b[49m\u001b[43mstart_new_session\u001b[49m\u001b[43m,\u001b[49m\u001b[43m \u001b[49m\u001b[43mprocess_group\u001b[49m\u001b[43m)\u001b[49m\n\u001b[0;32m   1033\u001b[0m \u001b[38;5;28;01mexcept\u001b[39;00m:\n\u001b[0;32m   1034\u001b[0m     \u001b[38;5;66;03m# Cleanup if the child failed starting.\u001b[39;00m\n",
      "File \u001b[1;32mc:\\Program Files\\Python311\\Lib\\subprocess.py:1493\u001b[0m, in \u001b[0;36mPopen._execute_child\u001b[1;34m(self, args, executable, preexec_fn, close_fds, pass_fds, cwd, env, startupinfo, creationflags, shell, p2cread, p2cwrite, c2pread, c2pwrite, errread, errwrite, unused_restore_signals, unused_gid, unused_gids, unused_uid, unused_umask, unused_start_new_session, unused_process_group)\u001b[0m\n\u001b[0;32m   1492\u001b[0m \u001b[38;5;28;01mtry\u001b[39;00m:\n\u001b[1;32m-> 1493\u001b[0m     hp, ht, pid, tid \u001b[38;5;241m=\u001b[39m _winapi\u001b[38;5;241m.\u001b[39mCreateProcess(executable, args,\n\u001b[0;32m   1494\u001b[0m                              \u001b[38;5;66;03m# no special security\u001b[39;00m\n\u001b[0;32m   1495\u001b[0m                              \u001b[38;5;28;01mNone\u001b[39;00m, \u001b[38;5;28;01mNone\u001b[39;00m,\n\u001b[0;32m   1496\u001b[0m                              \u001b[38;5;28mint\u001b[39m(\u001b[38;5;129;01mnot\u001b[39;00m close_fds),\n\u001b[0;32m   1497\u001b[0m                              creationflags,\n\u001b[0;32m   1498\u001b[0m                              env,\n\u001b[0;32m   1499\u001b[0m                              cwd,\n\u001b[0;32m   1500\u001b[0m                              startupinfo)\n\u001b[0;32m   1501\u001b[0m \u001b[38;5;28;01mfinally\u001b[39;00m:\n\u001b[0;32m   1502\u001b[0m     \u001b[38;5;66;03m# Child is launched. Close the parent's copy of those pipe\u001b[39;00m\n\u001b[0;32m   1503\u001b[0m     \u001b[38;5;66;03m# handles that only the child should have open.  You need\u001b[39;00m\n\u001b[1;32m   (...)\u001b[0m\n\u001b[0;32m   1506\u001b[0m     \u001b[38;5;66;03m# pipe will not close when the child process exits and the\u001b[39;00m\n\u001b[0;32m   1507\u001b[0m     \u001b[38;5;66;03m# ReadFile will hang.\u001b[39;00m\n",
      "\u001b[1;31mFileNotFoundError\u001b[0m: [WinError 2] Le fichier spécifié est introuvable",
      "\nThe above exception was the direct cause of the following exception:\n",
      "\u001b[1;31mExecutableNotFound\u001b[0m                        Traceback (most recent call last)",
      "Cell \u001b[1;32mIn[3], line 3\u001b[0m\n\u001b[0;32m      1\u001b[0m get_ipython()\u001b[38;5;241m.\u001b[39mrun_line_magic(\u001b[38;5;124m'\u001b[39m\u001b[38;5;124mpip\u001b[39m\u001b[38;5;124m'\u001b[39m, \u001b[38;5;124m'\u001b[39m\u001b[38;5;124minstall graphviz\u001b[39m\u001b[38;5;124m'\u001b[39m)\n\u001b[0;32m      2\u001b[0m \u001b[38;5;28;01mimport\u001b[39;00m \u001b[38;5;21;01mgraphviz\u001b[39;00m\n\u001b[1;32m----> 3\u001b[0m graphviz\u001b[38;5;241m.\u001b[39m__version__, \u001b[43mgraphviz\u001b[49m\u001b[38;5;241;43m.\u001b[39;49m\u001b[43mversion\u001b[49m\u001b[43m(\u001b[49m\u001b[43m)\u001b[49m\n",
      "File \u001b[1;32m~\\AppData\\Roaming\\Python\\Python311\\site-packages\\graphviz\\backend\\upstream_version.py:54\u001b[0m, in \u001b[0;36mversion\u001b[1;34m()\u001b[0m\n\u001b[0;32m     30\u001b[0m \u001b[38;5;250m\u001b[39m\u001b[38;5;124;03m\"\"\"Return the upstream version number tuple from ``stderr`` of ``dot -V``.\u001b[39;00m\n\u001b[0;32m     31\u001b[0m \n\u001b[0;32m     32\u001b[0m \u001b[38;5;124;03mReturns:\u001b[39;00m\n\u001b[1;32m   (...)\u001b[0m\n\u001b[0;32m     51\u001b[0m \u001b[38;5;124;03m    https://gitlab.com/graphviz/graphviz/-/blob/f94e91ba819cef51a4b9dcb2d76153684d06a913/gen_version.py#L17-20\u001b[39;00m\n\u001b[0;32m     52\u001b[0m \u001b[38;5;124;03m\"\"\"\u001b[39;00m\n\u001b[0;32m     53\u001b[0m cmd \u001b[38;5;241m=\u001b[39m [dot_command\u001b[38;5;241m.\u001b[39mDOT_BINARY, \u001b[38;5;124m'\u001b[39m\u001b[38;5;124m-V\u001b[39m\u001b[38;5;124m'\u001b[39m]\n\u001b[1;32m---> 54\u001b[0m proc \u001b[38;5;241m=\u001b[39m \u001b[43mexecute\u001b[49m\u001b[38;5;241;43m.\u001b[39;49m\u001b[43mrun_check\u001b[49m\u001b[43m(\u001b[49m\u001b[43mcmd\u001b[49m\u001b[43m,\u001b[49m\n\u001b[0;32m     55\u001b[0m \u001b[43m                         \u001b[49m\u001b[43mstdout\u001b[49m\u001b[38;5;241;43m=\u001b[39;49m\u001b[43msubprocess\u001b[49m\u001b[38;5;241;43m.\u001b[39;49m\u001b[43mPIPE\u001b[49m\u001b[43m,\u001b[49m\u001b[43m \u001b[49m\u001b[43mstderr\u001b[49m\u001b[38;5;241;43m=\u001b[39;49m\u001b[43msubprocess\u001b[49m\u001b[38;5;241;43m.\u001b[39;49m\u001b[43mSTDOUT\u001b[49m\u001b[43m,\u001b[49m\n\u001b[0;32m     56\u001b[0m \u001b[43m                         \u001b[49m\u001b[43mencoding\u001b[49m\u001b[38;5;241;43m=\u001b[39;49m\u001b[38;5;124;43m'\u001b[39;49m\u001b[38;5;124;43mascii\u001b[39;49m\u001b[38;5;124;43m'\u001b[39;49m\u001b[43m)\u001b[49m\n\u001b[0;32m     58\u001b[0m ma \u001b[38;5;241m=\u001b[39m VERSION_PATTERN\u001b[38;5;241m.\u001b[39msearch(proc\u001b[38;5;241m.\u001b[39mstdout)\n\u001b[0;32m     59\u001b[0m \u001b[38;5;28;01mif\u001b[39;00m ma \u001b[38;5;129;01mis\u001b[39;00m \u001b[38;5;28;01mNone\u001b[39;00m:\n",
      "File \u001b[1;32m~\\AppData\\Roaming\\Python\\Python311\\site-packages\\graphviz\\backend\\execute.py:84\u001b[0m, in \u001b[0;36mrun_check\u001b[1;34m(cmd, input_lines, encoding, quiet, **kwargs)\u001b[0m\n\u001b[0;32m     82\u001b[0m \u001b[38;5;28;01mexcept\u001b[39;00m \u001b[38;5;167;01mOSError\u001b[39;00m \u001b[38;5;28;01mas\u001b[39;00m e:\n\u001b[0;32m     83\u001b[0m     \u001b[38;5;28;01mif\u001b[39;00m e\u001b[38;5;241m.\u001b[39merrno \u001b[38;5;241m==\u001b[39m errno\u001b[38;5;241m.\u001b[39mENOENT:\n\u001b[1;32m---> 84\u001b[0m         \u001b[38;5;28;01mraise\u001b[39;00m ExecutableNotFound(cmd) \u001b[38;5;28;01mfrom\u001b[39;00m \u001b[38;5;21;01me\u001b[39;00m\n\u001b[0;32m     85\u001b[0m     \u001b[38;5;28;01mraise\u001b[39;00m\n\u001b[0;32m     87\u001b[0m \u001b[38;5;28;01mif\u001b[39;00m \u001b[38;5;129;01mnot\u001b[39;00m quiet \u001b[38;5;129;01mand\u001b[39;00m proc\u001b[38;5;241m.\u001b[39mstderr:\n",
      "\u001b[1;31mExecutableNotFound\u001b[0m: failed to execute WindowsPath('dot'), make sure the Graphviz executables are on your systems' PATH"
     ]
    }
   ],
   "source": [
    "%pip install graphviz\n",
    "import graphviz\n",
    "graphviz.__version__, graphviz.version()"
   ]
  },
  {
   "cell_type": "markdown",
   "id": "449c13e3",
   "metadata": {},
   "source": [
    "### Création d'une fonction de conversion d'un graphe, défini par une matrice d'adjacence, vers le format graphviz"
   ]
  },
  {
   "cell_type": "code",
   "execution_count": 3,
   "id": "a9fbb3ff",
   "metadata": {},
   "outputs": [],
   "source": [
    "def creation_graphe_graphviz(g):\n",
    "    # création d'un graphe orienté\n",
    "    dot = graphviz.Digraph()\n",
    "    \n",
    "    # ajout des sommets\n",
    "    for i in range(len(g)):\n",
    "        dot.node(str(i))\n",
    "    \n",
    "    # ajout des arcs\n",
    "    for i in range(len(g)):\n",
    "        for j in range(len(g)):\n",
    "            if g[i][j] == 1:\n",
    "                dot.edge(str(i), str(j))\n",
    "    \n",
    "    return dot"
   ]
  },
  {
   "cell_type": "markdown",
   "id": "e1d0f31f",
   "metadata": {},
   "source": [
    "## Création et affichage d'un premier graphe orienté\n"
   ]
  },
  {
   "cell_type": "code",
   "execution_count": 5,
   "id": "df570542",
   "metadata": {},
   "outputs": [],
   "source": [
    "graphe1 = np.array([[0,1,1],\n",
    "          [1,0,1],\n",
    "          [1,0,0]])"
   ]
  },
  {
   "cell_type": "markdown",
   "id": "d7e9613c",
   "metadata": {},
   "source": [
    "#### Affichage de la matrice"
   ]
  },
  {
   "cell_type": "code",
   "execution_count": 6,
   "id": "31dbf130",
   "metadata": {},
   "outputs": [
    {
     "name": "stdout",
     "output_type": "stream",
     "text": [
      "[[0 1 1]\n",
      " [1 0 1]\n",
      " [1 0 0]]\n"
     ]
    }
   ],
   "source": [
    "print(graphe1)"
   ]
  },
  {
   "cell_type": "markdown",
   "id": "1860e47c",
   "metadata": {},
   "source": [
    "#### Création du graphe associé, au format graphviz, pour pouvoir faire l'affichage de la représentation sagittale du graphe"
   ]
  },
  {
   "cell_type": "code",
   "execution_count": 7,
   "id": "298ad6cb",
   "metadata": {},
   "outputs": [],
   "source": [
    "gdot1 = creation_graphe_graphviz(graphe1)\n",
    "#print(gdot1.source)"
   ]
  },
  {
   "cell_type": "markdown",
   "id": "51c2124e",
   "metadata": {},
   "source": [
    "#### Affichage de la représentation sagittale du graphe"
   ]
  },
  {
   "cell_type": "code",
   "execution_count": 8,
   "id": "5dc106a2",
   "metadata": {},
   "outputs": [
    {
     "data": {
      "image/svg+xml": [
       "<?xml version=\"1.0\" encoding=\"UTF-8\" standalone=\"no\"?>\n",
       "<!DOCTYPE svg PUBLIC \"-//W3C//DTD SVG 1.1//EN\"\n",
       " \"http://www.w3.org/Graphics/SVG/1.1/DTD/svg11.dtd\">\n",
       "<!-- Generated by graphviz version 3.0.0 (20220226.1711)\n",
       " -->\n",
       "<!-- Pages: 1 -->\n",
       "<svg width=\"126pt\" height=\"188pt\"\n",
       " viewBox=\"0.00 0.00 126.00 188.00\" xmlns=\"http://www.w3.org/2000/svg\" xmlns:xlink=\"http://www.w3.org/1999/xlink\">\n",
       "<g id=\"graph0\" class=\"graph\" transform=\"scale(1 1) rotate(0) translate(4 184)\">\n",
       "<polygon fill=\"white\" stroke=\"transparent\" points=\"-4,4 -4,-184 122,-184 122,4 -4,4\"/>\n",
       "<!-- 0 -->\n",
       "<g id=\"node1\" class=\"node\">\n",
       "<title>0</title>\n",
       "<ellipse fill=\"none\" stroke=\"black\" cx=\"59\" cy=\"-162\" rx=\"27\" ry=\"18\"/>\n",
       "<text text-anchor=\"middle\" x=\"59\" y=\"-158.3\" font-family=\"Times,serif\" font-size=\"14.00\">0</text>\n",
       "</g>\n",
       "<!-- 1 -->\n",
       "<g id=\"node2\" class=\"node\">\n",
       "<title>1</title>\n",
       "<ellipse fill=\"none\" stroke=\"black\" cx=\"27\" cy=\"-90\" rx=\"27\" ry=\"18\"/>\n",
       "<text text-anchor=\"middle\" x=\"27\" y=\"-86.3\" font-family=\"Times,serif\" font-size=\"14.00\">1</text>\n",
       "</g>\n",
       "<!-- 0&#45;&gt;1 -->\n",
       "<g id=\"edge1\" class=\"edge\">\n",
       "<title>0&#45;&gt;1</title>\n",
       "<path fill=\"none\" stroke=\"black\" d=\"M46.38,-145.81C41.61,-137.57 36.55,-127.15 32.59,-117.62\"/>\n",
       "<polygon fill=\"black\" stroke=\"black\" points=\"35.8,-116.2 28.93,-108.13 29.27,-118.72 35.8,-116.2\"/>\n",
       "</g>\n",
       "<!-- 2 -->\n",
       "<g id=\"node3\" class=\"node\">\n",
       "<title>2</title>\n",
       "<ellipse fill=\"none\" stroke=\"black\" cx=\"91\" cy=\"-18\" rx=\"27\" ry=\"18\"/>\n",
       "<text text-anchor=\"middle\" x=\"91\" y=\"-14.3\" font-family=\"Times,serif\" font-size=\"14.00\">2</text>\n",
       "</g>\n",
       "<!-- 0&#45;&gt;2 -->\n",
       "<g id=\"edge2\" class=\"edge\">\n",
       "<title>0&#45;&gt;2</title>\n",
       "<path fill=\"none\" stroke=\"black\" d=\"M58.28,-143.87C61.22,-119.3 71.2,-73.85 79.75,-45.08\"/>\n",
       "<polygon fill=\"black\" stroke=\"black\" points=\"83.17,-45.9 82.83,-35.31 76.49,-43.8 83.17,-45.9\"/>\n",
       "</g>\n",
       "<!-- 1&#45;&gt;0 -->\n",
       "<g id=\"edge3\" class=\"edge\">\n",
       "<title>1&#45;&gt;0</title>\n",
       "<path fill=\"none\" stroke=\"black\" d=\"M39.63,-106.2C44.37,-114.4 49.4,-124.75 53.35,-134.24\"/>\n",
       "<polygon fill=\"black\" stroke=\"black\" points=\"50.13,-135.63 57.01,-143.7 56.66,-133.11 50.13,-135.63\"/>\n",
       "</g>\n",
       "<!-- 1&#45;&gt;2 -->\n",
       "<g id=\"edge4\" class=\"edge\">\n",
       "<title>1&#45;&gt;2</title>\n",
       "<path fill=\"none\" stroke=\"black\" d=\"M40.57,-74.15C49.31,-64.6 60.83,-51.99 70.66,-41.25\"/>\n",
       "<polygon fill=\"black\" stroke=\"black\" points=\"73.28,-43.57 77.45,-33.82 68.12,-38.84 73.28,-43.57\"/>\n",
       "</g>\n",
       "<!-- 2&#45;&gt;0 -->\n",
       "<g id=\"edge5\" class=\"edge\">\n",
       "<title>2&#45;&gt;0</title>\n",
       "<path fill=\"none\" stroke=\"black\" d=\"M91.69,-36.43C88.7,-61.08 78.75,-106.33 70.23,-134.98\"/>\n",
       "<polygon fill=\"black\" stroke=\"black\" points=\"66.83,-134.12 67.16,-144.71 73.5,-136.22 66.83,-134.12\"/>\n",
       "</g>\n",
       "</g>\n",
       "</svg>\n"
      ],
      "text/plain": [
       "<graphviz.graphs.Digraph at 0x7fd9e18f2ac0>"
      ]
     },
     "execution_count": 8,
     "metadata": {},
     "output_type": "execute_result"
    }
   ],
   "source": [
    "gdot1"
   ]
  },
  {
   "cell_type": "markdown",
   "id": "a77ed623",
   "metadata": {},
   "source": [
    "## Implémentation des premières fonctions pour manipuler les graphes (cellules de code à compléter)"
   ]
  },
  {
   "cell_type": "markdown",
   "id": "67904b2b",
   "metadata": {},
   "source": [
    "### Premières définitions"
   ]
  },
  {
   "cell_type": "markdown",
   "id": "abc2b7c7",
   "metadata": {},
   "source": [
    "#### `graphe_vide(n)`: fonction qui construit un graphe vide (sans arcs), avec `n` sommets, et qui retourne la matrice d'adjacence correspondante"
   ]
  },
  {
   "cell_type": "code",
   "execution_count": 11,
   "id": "be1e1ee6",
   "metadata": {},
   "outputs": [],
   "source": [
    "def graphe_vide(n):\n",
    "    return np.zeros((n, n))"
   ]
  },
  {
   "cell_type": "code",
   "execution_count": 12,
   "id": "a947a0fc",
   "metadata": {},
   "outputs": [
    {
     "name": "stdout",
     "output_type": "stream",
     "text": [
      "[[0. 0. 0. 0. 0.]\n",
      " [0. 0. 0. 0. 0.]\n",
      " [0. 0. 0. 0. 0.]\n",
      " [0. 0. 0. 0. 0.]\n",
      " [0. 0. 0. 0. 0.]]\n"
     ]
    },
    {
     "data": {
      "image/svg+xml": [
       "<?xml version=\"1.0\" encoding=\"UTF-8\" standalone=\"no\"?>\n",
       "<!DOCTYPE svg PUBLIC \"-//W3C//DTD SVG 1.1//EN\"\n",
       " \"http://www.w3.org/Graphics/SVG/1.1/DTD/svg11.dtd\">\n",
       "<!-- Generated by graphviz version 3.0.0 (20220226.1711)\n",
       " -->\n",
       "<!-- Pages: 1 -->\n",
       "<svg width=\"350pt\" height=\"44pt\"\n",
       " viewBox=\"0.00 0.00 350.00 44.00\" xmlns=\"http://www.w3.org/2000/svg\" xmlns:xlink=\"http://www.w3.org/1999/xlink\">\n",
       "<g id=\"graph0\" class=\"graph\" transform=\"scale(1 1) rotate(0) translate(4 40)\">\n",
       "<polygon fill=\"white\" stroke=\"transparent\" points=\"-4,4 -4,-40 346,-40 346,4 -4,4\"/>\n",
       "<!-- 0 -->\n",
       "<g id=\"node1\" class=\"node\">\n",
       "<title>0</title>\n",
       "<ellipse fill=\"none\" stroke=\"black\" cx=\"27\" cy=\"-18\" rx=\"27\" ry=\"18\"/>\n",
       "<text text-anchor=\"middle\" x=\"27\" y=\"-14.3\" font-family=\"Times,serif\" font-size=\"14.00\">0</text>\n",
       "</g>\n",
       "<!-- 1 -->\n",
       "<g id=\"node2\" class=\"node\">\n",
       "<title>1</title>\n",
       "<ellipse fill=\"none\" stroke=\"black\" cx=\"99\" cy=\"-18\" rx=\"27\" ry=\"18\"/>\n",
       "<text text-anchor=\"middle\" x=\"99\" y=\"-14.3\" font-family=\"Times,serif\" font-size=\"14.00\">1</text>\n",
       "</g>\n",
       "<!-- 2 -->\n",
       "<g id=\"node3\" class=\"node\">\n",
       "<title>2</title>\n",
       "<ellipse fill=\"none\" stroke=\"black\" cx=\"171\" cy=\"-18\" rx=\"27\" ry=\"18\"/>\n",
       "<text text-anchor=\"middle\" x=\"171\" y=\"-14.3\" font-family=\"Times,serif\" font-size=\"14.00\">2</text>\n",
       "</g>\n",
       "<!-- 3 -->\n",
       "<g id=\"node4\" class=\"node\">\n",
       "<title>3</title>\n",
       "<ellipse fill=\"none\" stroke=\"black\" cx=\"243\" cy=\"-18\" rx=\"27\" ry=\"18\"/>\n",
       "<text text-anchor=\"middle\" x=\"243\" y=\"-14.3\" font-family=\"Times,serif\" font-size=\"14.00\">3</text>\n",
       "</g>\n",
       "<!-- 4 -->\n",
       "<g id=\"node5\" class=\"node\">\n",
       "<title>4</title>\n",
       "<ellipse fill=\"none\" stroke=\"black\" cx=\"315\" cy=\"-18\" rx=\"27\" ry=\"18\"/>\n",
       "<text text-anchor=\"middle\" x=\"315\" y=\"-14.3\" font-family=\"Times,serif\" font-size=\"14.00\">4</text>\n",
       "</g>\n",
       "</g>\n",
       "</svg>\n"
      ],
      "text/plain": [
       "<graphviz.graphs.Digraph at 0x7fd9e18f2940>"
      ]
     },
     "execution_count": 12,
     "metadata": {},
     "output_type": "execute_result"
    }
   ],
   "source": [
    "# test de la fonction graphe_vide\n",
    "graphe2 = graphe_vide(5)\n",
    "print(graphe2)\n",
    "gdot2 = creation_graphe_graphviz(graphe2)\n",
    "gdot2"
   ]
  },
  {
   "cell_type": "markdown",
   "id": "ccee626c",
   "metadata": {},
   "source": [
    "#### `est_arc(g, i, j)` : fonction qui retourne vrai si l'arc `(i,j)` existe dans le graphe `g`"
   ]
  },
  {
   "cell_type": "code",
   "execution_count": null,
   "id": "44bfc4ae",
   "metadata": {},
   "outputs": [],
   "source": [
    "def est_arc(g, i, j):\n",
    "    raise NotImplementedError"
   ]
  },
  {
   "cell_type": "code",
   "execution_count": null,
   "id": "696f1c57",
   "metadata": {},
   "outputs": [],
   "source": [
    "# test de la fonction est_arc\n",
    "print(est_arc(graphe1, 0, 0)) #faux\n",
    "print(est_arc(graphe1, 0, 1)) #vrai"
   ]
  },
  {
   "cell_type": "markdown",
   "id": "67ffdf0e",
   "metadata": {},
   "source": [
    "#### `ajoute_arc(g, i, j)` : fonction qui ajoute l'arc `(i,j)` au graphe `g`, s'il n'est pas déjà présent"
   ]
  },
  {
   "cell_type": "code",
   "execution_count": null,
   "id": "8d387fe7",
   "metadata": {},
   "outputs": [],
   "source": [
    "def ajoute_arc(g, i, j):\n",
    "    raise NotImplementedError"
   ]
  },
  {
   "cell_type": "code",
   "execution_count": null,
   "id": "7f637c0c",
   "metadata": {},
   "outputs": [],
   "source": [
    "# test de la fonction ajoute_arc\n",
    "print(est_arc(graphe1, 0, 0)) #faux\n",
    "ajoute_arc(graphe1, 0, 0)\n",
    "print(est_arc(graphe1, 0, 0)) #vrai\n",
    "\n",
    "gdot1 = creation_graphe_graphviz(graphe1)\n",
    "gdot1"
   ]
  },
  {
   "cell_type": "code",
   "execution_count": null,
   "id": "0d4721f1",
   "metadata": {},
   "outputs": [],
   "source": [
    "# test de la fonction ajoute_arc\n",
    "print(est_arc(graphe1, 0, 1)) #vrai\n",
    "ajoute_arc(graphe1, 0, 1)\n",
    "print(est_arc(graphe1, 0, 1)) #vrai\n",
    "\n",
    "gdot1 = creation_graphe_graphviz(graphe1)\n",
    "gdot1"
   ]
  },
  {
   "cell_type": "markdown",
   "id": "4198288a",
   "metadata": {},
   "source": [
    "#### `ote_arc(g, i, j)`: fonction qui ote l'arc `(i,j)` du graphe `g`, s'il était déjà présent"
   ]
  },
  {
   "cell_type": "code",
   "execution_count": null,
   "id": "159f7e07",
   "metadata": {},
   "outputs": [],
   "source": [
    "def ote_arc(g, i, j):\n",
    "    raise NotImplementedError"
   ]
  },
  {
   "cell_type": "code",
   "execution_count": null,
   "id": "de1b90d2",
   "metadata": {},
   "outputs": [],
   "source": [
    "# test de la fonction ote_arc\n",
    "print(est_arc(graphe1, 0, 0)) #vrai\n",
    "ote_arc(graphe1, 0, 0)\n",
    "print(est_arc(graphe1, 0, 0)) #faux\n",
    "\n",
    "gdot1 = creation_graphe_graphviz(graphe1)\n",
    "gdot1"
   ]
  },
  {
   "cell_type": "code",
   "execution_count": null,
   "id": "64204e4b",
   "metadata": {},
   "outputs": [],
   "source": [
    "# test de la fonction ote_arc\n",
    "print(est_arc(graphe1, 1, 1)) #faux\n",
    "ote_arc(graphe1, 1, 1)\n",
    "print(est_arc(graphe1, 1, 1)) #faux\n",
    "\n",
    "gdot1 = creation_graphe_graphviz(graphe1)\n",
    "gdot1"
   ]
  },
  {
   "cell_type": "markdown",
   "id": "55015d2a",
   "metadata": {},
   "source": [
    "#### `nb_sommets(g)` : fonction qui retourne le nombre de sommets du graphe `g`"
   ]
  },
  {
   "cell_type": "code",
   "execution_count": null,
   "id": "f324ceea",
   "metadata": {},
   "outputs": [],
   "source": [
    "def nb_sommets(g):\n",
    "    raise NotImplementedError"
   ]
  },
  {
   "cell_type": "code",
   "execution_count": null,
   "id": "da85241a",
   "metadata": {},
   "outputs": [],
   "source": [
    "# test de la fonction nb_sommets\n",
    "n = nb_sommets(graphe1)#3 sommets\n",
    "print(\"Nombre de sommets :\", n)"
   ]
  },
  {
   "cell_type": "markdown",
   "id": "08d90dcb",
   "metadata": {},
   "source": [
    "#### `est_simple(g)` : fonction qui indique si le graphe `g` est simple"
   ]
  },
  {
   "cell_type": "code",
   "execution_count": null,
   "id": "f255d3e4",
   "metadata": {},
   "outputs": [],
   "source": [
    "def est_simple(g):\n",
    "    raise NotImplementedError"
   ]
  },
  {
   "cell_type": "code",
   "execution_count": null,
   "id": "4a512fd8",
   "metadata": {},
   "outputs": [],
   "source": [
    "# test de la fonction est_simple\n",
    "print(\"Graphe simple ?\", est_simple(graphe1))#vrai"
   ]
  },
  {
   "cell_type": "markdown",
   "id": "5d1d7120",
   "metadata": {},
   "source": [
    "#### `est_complet(g)` : fonction qui indique si le graphe `g` est complet"
   ]
  },
  {
   "cell_type": "code",
   "execution_count": null,
   "id": "f8f90f5b",
   "metadata": {},
   "outputs": [],
   "source": [
    "def est_complet(g):\n",
    "    raise NotImplementedError"
   ]
  },
  {
   "cell_type": "code",
   "execution_count": null,
   "id": "432b6d2f",
   "metadata": {},
   "outputs": [],
   "source": [
    "# test de la fonction est_complet\n",
    "print(\"Graphe complet ?\", est_complet(graphe1))#faux"
   ]
  },
  {
   "cell_type": "markdown",
   "id": "b104cd65",
   "metadata": {},
   "source": [
    "#### `est_symetrique(g)` : fonction qui indique si le graphe `g` est symétrique"
   ]
  },
  {
   "cell_type": "code",
   "execution_count": null,
   "id": "7a797805",
   "metadata": {},
   "outputs": [],
   "source": [
    "def est_symetrique(g):\n",
    "    raise NotImplementedError"
   ]
  },
  {
   "cell_type": "code",
   "execution_count": null,
   "id": "3f2cb9dd",
   "metadata": {},
   "outputs": [],
   "source": [
    "# test de la fonction est_symetrique\n",
    "print(\"Graphe symétrique ?\", est_symetrique(graphe1))#faux"
   ]
  },
  {
   "cell_type": "markdown",
   "id": "4911fad8",
   "metadata": {},
   "source": [
    "### Prédécesseurs et successeurs"
   ]
  },
  {
   "cell_type": "markdown",
   "id": "cadf890f",
   "metadata": {},
   "source": [
    "#### `successeur(g,s1,s2)` : fonction qui retourne vrai si le sommet `s2` est un successeur du sommet `s1`, dans le graphe `g` et faux sinon"
   ]
  },
  {
   "cell_type": "code",
   "execution_count": null,
   "id": "5c21684b",
   "metadata": {},
   "outputs": [],
   "source": [
    "def successeur(g,s1,s2):\n",
    "    raise NotImplementedError"
   ]
  },
  {
   "cell_type": "code",
   "execution_count": null,
   "id": "c149bc7a",
   "metadata": {},
   "outputs": [],
   "source": [
    "# test de la fonction successeur\n",
    "print(\"0 successeur du sommet 0 :\", successeur(graphe1,0,0))\n",
    "print(\"1 successeur du sommet 0 :\", successeur(graphe1,0,1))\n",
    "print(\"0 successeur du sommet 1 :\", successeur(graphe1,1,0))"
   ]
  },
  {
   "cell_type": "markdown",
   "id": "6593613f",
   "metadata": {},
   "source": [
    "#### `successeurs(g,s)` : fonction qui retourne un tableau numpy contenant les noms des sommets successeurs du sommet `s`, dans le graphe `g`"
   ]
  },
  {
   "cell_type": "code",
   "execution_count": null,
   "id": "2b95465e",
   "metadata": {},
   "outputs": [],
   "source": [
    "def successeurs(g,s):\n",
    "    raise NotImplementedError"
   ]
  },
  {
   "cell_type": "code",
   "execution_count": null,
   "id": "1b596708",
   "metadata": {},
   "outputs": [],
   "source": [
    "# test de la fonction successeurs\n",
    "print(\"Successeurs du sommet 0 :\", successeurs(graphe1,0))\n",
    "print(\"Successeurs du sommet 1 :\", successeurs(graphe1,1))\n",
    "print(\"Successeurs du sommet 2 :\", successeurs(graphe1,2))"
   ]
  },
  {
   "cell_type": "markdown",
   "id": "da1918f4",
   "metadata": {},
   "source": [
    "#### `predecesseur(g,s1,s2)` : fonction qui retourne vrai si le sommet `s2` est un prédécesseur du sommet `s1`, dans le graphe `g`, et faux sinon"
   ]
  },
  {
   "cell_type": "code",
   "execution_count": null,
   "id": "1b3002c7",
   "metadata": {},
   "outputs": [],
   "source": [
    "def predecesseur(g,s1,s2):\n",
    "    raise NotImplementedError"
   ]
  },
  {
   "cell_type": "code",
   "execution_count": null,
   "id": "1bc39c1c",
   "metadata": {},
   "outputs": [],
   "source": [
    "# test de la fonction predecesseur\n",
    "print(\"0 prédécesseurs du sommet 0 :\", predecesseur(graphe1,0,0))\n",
    "print(\"1 prédécesseurs du sommet 0 :\", predecesseur(graphe1,1,0))\n",
    "print(\"0 prédécesseurs du sommet 1 :\", predecesseur(graphe1,0,1))"
   ]
  },
  {
   "cell_type": "markdown",
   "id": "a52719f5",
   "metadata": {},
   "source": [
    "#### `predecesseurs(g,s)` : fonction qui retourne un tableau numpy contenant les noms des sommets prédécesseurs du sommet `s`, dans le graphe `g`"
   ]
  },
  {
   "cell_type": "code",
   "execution_count": null,
   "id": "66e231e6",
   "metadata": {},
   "outputs": [],
   "source": [
    "def predecesseurs(g,s):\n",
    "    raise NotImplementedError"
   ]
  },
  {
   "cell_type": "code",
   "execution_count": null,
   "id": "544213e9",
   "metadata": {},
   "outputs": [],
   "source": [
    "# test de la fonction predecesseurs\n",
    "print(\"Prédécesseurs du sommet 0 :\", predecesseurs(graphe1,0))\n",
    "print(\"Prédécesseurs du sommet 1 :\", predecesseurs(graphe1,1))\n",
    "print(\"Prédécesseurs du sommet 2 :\", predecesseurs(graphe1,2))"
   ]
  },
  {
   "cell_type": "markdown",
   "id": "ee1151c2",
   "metadata": {},
   "source": [
    "### Degrés des sommets"
   ]
  },
  {
   "cell_type": "markdown",
   "id": "395f72c3",
   "metadata": {},
   "source": [
    "#### `degre_entrant(g, s)` : fonction qui retourne le degré entrant du sommet `s`, dans le graphe `g`"
   ]
  },
  {
   "cell_type": "code",
   "execution_count": null,
   "id": "7aadcd51",
   "metadata": {},
   "outputs": [],
   "source": [
    "def degre_entrant(g, s):\n",
    "    raise NotImplementedError"
   ]
  },
  {
   "cell_type": "code",
   "execution_count": null,
   "id": "29835b01",
   "metadata": {},
   "outputs": [],
   "source": [
    "# test de la fonction degre_entrant\n",
    "print(\"degré entrant du sommet 0 :\", degre_entrant(graphe1,0))\n",
    "print(\"degré entrant du sommet 1 :\", degre_entrant(graphe1,1))\n",
    "print(\"degré entrant du sommet 2 :\", degre_entrant(graphe1,2))"
   ]
  },
  {
   "cell_type": "markdown",
   "id": "a9f5c1ad",
   "metadata": {},
   "source": [
    "#### `degre_sortant(g, s)` : fonction qui retourne le degré sortant du sommet `s`, dans le graphe `g`"
   ]
  },
  {
   "cell_type": "code",
   "execution_count": null,
   "id": "3a2faabf",
   "metadata": {},
   "outputs": [],
   "source": [
    "def degre_sortant(g, s):\n",
    "    raise NotImplementedError"
   ]
  },
  {
   "cell_type": "code",
   "execution_count": null,
   "id": "f27c0ab6",
   "metadata": {},
   "outputs": [],
   "source": [
    "# test de la fonction degre_sortant\n",
    "print(\"degré sortant du sommet 0 :\", degre_sortant(graphe1,0))\n",
    "print(\"degré sortant du sommet 1 :\", degre_sortant(graphe1,1))\n",
    "print(\"degré sortant du sommet 2 :\", degre_sortant(graphe1,2))"
   ]
  },
  {
   "cell_type": "markdown",
   "id": "96ad1768",
   "metadata": {},
   "source": [
    "#### `degre_total(g, s)` : fonction qui retourne le degré total du sommet `s`, dans le graphe `g`"
   ]
  },
  {
   "cell_type": "code",
   "execution_count": null,
   "id": "9bdd478b",
   "metadata": {},
   "outputs": [],
   "source": [
    "def degre_total(g, s):\n",
    "    raise NotImplementedError"
   ]
  },
  {
   "cell_type": "code",
   "execution_count": null,
   "id": "932c4201",
   "metadata": {},
   "outputs": [],
   "source": [
    "# test de la fonction degre_total\n",
    "print(\"degré total du sommet 0 :\", degre_total(graphe1,0))\n",
    "print(\"degré total du sommet 1 :\", degre_total(graphe1,1))\n",
    "print(\"degré total du sommet 2 :\", degre_total(graphe1,2))"
   ]
  },
  {
   "cell_type": "markdown",
   "id": "6d5a22ea",
   "metadata": {},
   "source": [
    "#### `degres_entrants(g)` : fonction qui retourne les degrés entrants des sommets du graphe `g`, sous la forme d'un tableau numpy"
   ]
  },
  {
   "cell_type": "code",
   "execution_count": null,
   "id": "819c6c43",
   "metadata": {},
   "outputs": [],
   "source": [
    "def degres_entrants(g):\n",
    "    raise NotImplementedError"
   ]
  },
  {
   "cell_type": "code",
   "execution_count": null,
   "id": "25a215a5",
   "metadata": {},
   "outputs": [],
   "source": [
    "# test de la fonction degres_entrants\n",
    "print(degres_entrants(graphe1))"
   ]
  },
  {
   "cell_type": "markdown",
   "id": "d33d8d8b",
   "metadata": {},
   "source": [
    "#### `degres_sortants(g)` : fonction qui retourne les degrés sortants des sommets du graphe `g`, sous la forme d'un tableau numpy"
   ]
  },
  {
   "cell_type": "code",
   "execution_count": null,
   "id": "e29fcad9",
   "metadata": {},
   "outputs": [],
   "source": [
    "def degres_sortants(g):\n",
    "    raise NotImplementedError"
   ]
  },
  {
   "cell_type": "code",
   "execution_count": null,
   "id": "d8e1cdc3",
   "metadata": {},
   "outputs": [],
   "source": [
    "# test de la fonction degres_sortants\n",
    "print(degres_sortants(graphe1))"
   ]
  },
  {
   "cell_type": "markdown",
   "id": "9d547e62",
   "metadata": {},
   "source": [
    "#### `degres_totaux(g)` : fonction qui retourne les degrés totaux des sommets du graphe `g`, sous la forme d'un tableau numpy"
   ]
  },
  {
   "cell_type": "code",
   "execution_count": null,
   "id": "032b36e4",
   "metadata": {},
   "outputs": [],
   "source": [
    "def degres_totaux(g):\n",
    "    raise NotImplementedError"
   ]
  },
  {
   "cell_type": "code",
   "execution_count": null,
   "id": "b9b1e0db",
   "metadata": {},
   "outputs": [],
   "source": [
    "# test de la fonction degres_totaux\n",
    "print(degres_totaux(graphe1))"
   ]
  },
  {
   "cell_type": "markdown",
   "id": "2bcc3f9c",
   "metadata": {},
   "source": [
    "### Sommets source et puits"
   ]
  },
  {
   "cell_type": "markdown",
   "id": "f582b0e7",
   "metadata": {},
   "source": [
    "#### `est_source(g, s)` : fonction qui retourne vrai si le sommet `s` est une source, dans le graphe `g`"
   ]
  },
  {
   "cell_type": "code",
   "execution_count": null,
   "id": "f0fe3952",
   "metadata": {},
   "outputs": [],
   "source": [
    "def est_source(g, s):\n",
    "    raise NotImplementedError"
   ]
  },
  {
   "cell_type": "code",
   "execution_count": null,
   "id": "fe6d0cb8",
   "metadata": {},
   "outputs": [],
   "source": [
    "# test de la fonction est_source"
   ]
  },
  {
   "cell_type": "markdown",
   "id": "35952f5d",
   "metadata": {},
   "source": [
    "#### `est_puits(g, s)` : fonction qui retourne vrai si le sommet `s` est un puits, dans le graphe `g`"
   ]
  },
  {
   "cell_type": "code",
   "execution_count": null,
   "id": "14baee12",
   "metadata": {},
   "outputs": [],
   "source": [
    "def est_puits(g, s):\n",
    "    raise NotImplementedError"
   ]
  },
  {
   "cell_type": "code",
   "execution_count": null,
   "id": "44f5a06b",
   "metadata": {},
   "outputs": [],
   "source": [
    "# test de la fonction est_puits"
   ]
  },
  {
   "cell_type": "markdown",
   "id": "2dea56ab",
   "metadata": {},
   "source": [
    "## Implémentation des fonctions bonus (cellules de code à compléter)"
   ]
  },
  {
   "cell_type": "markdown",
   "id": "e74c2f5a",
   "metadata": {},
   "source": [
    "### Construction de graphes particuliers"
   ]
  },
  {
   "cell_type": "markdown",
   "id": "eea57d11",
   "metadata": {},
   "source": [
    "#### `graphe_reciproque(g)` : fonction qui retourne la matrice d'adjacence correspondant au graphe réciproque du graphe `g`"
   ]
  },
  {
   "cell_type": "code",
   "execution_count": null,
   "id": "13c555be",
   "metadata": {},
   "outputs": [],
   "source": [
    "def graphe_reciproque(g):\n",
    "    raise NotImplementedError"
   ]
  },
  {
   "cell_type": "code",
   "execution_count": null,
   "id": "a87b419a",
   "metadata": {},
   "outputs": [],
   "source": [
    "# test de la fonction graphe_reciproque\n",
    "graphe1_rec = graphe_reciproque(graphe1)\n",
    "#print(graphe1_rec)\n",
    "gdot1_rec = creation_graphe_graphviz(graphe1_rec)\n",
    "gdot1_rec"
   ]
  },
  {
   "cell_type": "markdown",
   "id": "25ac02fa",
   "metadata": {},
   "source": [
    "#### `graphe_complementaire(g)` : fonction qui retourne la matrice d'adjacence correspondant au graphe complémentaire du graphe `g`"
   ]
  },
  {
   "cell_type": "code",
   "execution_count": null,
   "id": "a7f59197",
   "metadata": {},
   "outputs": [],
   "source": [
    "def graphe_complementaire(g):\n",
    "    raise NotImplementedError"
   ]
  },
  {
   "cell_type": "code",
   "execution_count": null,
   "id": "66ff67c2",
   "metadata": {},
   "outputs": [],
   "source": [
    "# test de la fonction graphe_complementaire\n",
    "graphe1_comp = graphe_complementaire(graphe1)\n",
    "#print(graphe1_rec)\n",
    "gdot1_comp = creation_graphe_graphviz(graphe1_comp)\n",
    "gdot1_comp"
   ]
  },
  {
   "cell_type": "markdown",
   "id": "72157bcd",
   "metadata": {},
   "source": [
    "#### `graphe_symetrique(g)` : fonction qui retourne la matrice d'adjacence correspondant au graphe symétrique du graphe `g`"
   ]
  },
  {
   "cell_type": "code",
   "execution_count": null,
   "id": "4cfe5bb7",
   "metadata": {},
   "outputs": [],
   "source": [
    "def graphe_symetrique(g):\n",
    "    raise NotImplementedError"
   ]
  },
  {
   "cell_type": "code",
   "execution_count": null,
   "id": "14fe93e9",
   "metadata": {},
   "outputs": [],
   "source": [
    "# test de la fonction graphe_symetrique\n",
    "graphe1_sym = graphe_symetrique(graphe1)\n",
    "#print(graphe1_rec)\n",
    "gdot1_sym = creation_graphe_graphviz(graphe1_sym)\n",
    "gdot1_sym"
   ]
  },
  {
   "cell_type": "markdown",
   "id": "20baf170",
   "metadata": {},
   "source": [
    "### Chemins et circuits"
   ]
  },
  {
   "cell_type": "markdown",
   "id": "5de33771",
   "metadata": {},
   "source": [
    "#### `est_chemin(g, ls)` : fonction qui indique si la liste des sommets `ls` correspond à un chemin, dans le graphe `g`"
   ]
  },
  {
   "cell_type": "code",
   "execution_count": null,
   "id": "6ab6ff4f",
   "metadata": {},
   "outputs": [],
   "source": [
    "def est_chemin(g, ls):\n",
    "    raise NotImplementedError"
   ]
  },
  {
   "cell_type": "code",
   "execution_count": null,
   "id": "ea428a7d",
   "metadata": {},
   "outputs": [],
   "source": [
    "# test de la fonction est_chemin\n",
    "print(\"Chemin [] ?\", est_chemin(graphe1,[]))\n",
    "print(\"Chemin [1] ?\", est_chemin(graphe1,[1]))\n",
    "print(\"Chemin [0, 1] ?\", est_chemin(graphe1,[0,1]))\n",
    "print(\"Chemin [0, 1, 2] ?\", est_chemin(graphe1,[0,1,2]))\n",
    "print(\"Chemin [0, 2, 1] ?\", est_chemin(graphe1,[0,2,1]))\n",
    "print(\"Chemin [0, 1, 2, 2] ?\", est_chemin(graphe1,[0,1,2,2]))"
   ]
  },
  {
   "cell_type": "markdown",
   "id": "b8a75677",
   "metadata": {},
   "source": [
    "#### `est_circuit(g, ls)` : fonction qui indique si la liste des sommets `ls` correspond à un circuit, dans le graphe `g`"
   ]
  },
  {
   "cell_type": "code",
   "execution_count": null,
   "id": "f9b5cf6f",
   "metadata": {},
   "outputs": [],
   "source": [
    "def est_circuit(g, ls):\n",
    "    raise NotImplementedError"
   ]
  },
  {
   "cell_type": "code",
   "execution_count": null,
   "id": "eba410fc",
   "metadata": {},
   "outputs": [],
   "source": [
    "# test de la fonction est_circuit\n",
    "print(\"Circuit [] ?\", est_circuit(graphe1,[]))\n",
    "print(\"Circuit [1] ?\", est_circuit(graphe1,[1]))\n",
    "print(\"Circuit [0, 1] ?\", est_circuit(graphe1,[0,1]))\n",
    "print(\"Circuit [0, 1, 2, 0] ?\", est_circuit(graphe1,[0,1,2,0]))\n",
    "print(\"Circuit [0, 2, 1, 0] ?\", est_circuit(graphe1,[0,2,1,0]))\n",
    "print(\"Circuit [0, 1, 2, 2] ?\", est_circuit(graphe1,[0,1,2,2]))"
   ]
  },
  {
   "cell_type": "markdown",
   "id": "da7f9624",
   "metadata": {},
   "source": [
    "#### `est_chemin_elementaire(g, ls)` : fonction qui indique si la liste des sommets `ls` correspond à un chemin élémentaire, dans le graphe `g`"
   ]
  },
  {
   "cell_type": "code",
   "execution_count": null,
   "id": "3a1fda9e",
   "metadata": {},
   "outputs": [],
   "source": [
    "def est_chemin_elementaire(g, ls):\n",
    "    raise NotImplementedError"
   ]
  },
  {
   "cell_type": "code",
   "execution_count": null,
   "id": "f0ef2c16",
   "metadata": {},
   "outputs": [],
   "source": [
    "# test de la fonction est_chemin_elementaire"
   ]
  },
  {
   "cell_type": "markdown",
   "id": "7fb9d789",
   "metadata": {},
   "source": [
    "#### `est_chemin_simple(g, ls)` : fonction qui indique si la liste des sommets `ls` correspond à un chemin simple, dans le graphe `g`"
   ]
  },
  {
   "cell_type": "code",
   "execution_count": null,
   "id": "2ac64910",
   "metadata": {},
   "outputs": [],
   "source": [
    "def est_chemin_simple(g, ls):\n",
    "    raise NotImplementedError"
   ]
  },
  {
   "cell_type": "code",
   "execution_count": null,
   "id": "dc31b40b",
   "metadata": {},
   "outputs": [],
   "source": [
    "# test de la fonction est_chemin_simple"
   ]
  },
  {
   "cell_type": "markdown",
   "id": "36189020",
   "metadata": {},
   "source": [
    "#### `est_circuit_elementaire(g, ls)` : fonction qui indique si la liste des sommets `ls` correspond à un circuit élémentaire, dans le graphe `g`"
   ]
  },
  {
   "cell_type": "code",
   "execution_count": null,
   "id": "26831f56",
   "metadata": {},
   "outputs": [],
   "source": [
    "def est_circuit_elementaire(g, ls):\n",
    "    raise NotImplementedError"
   ]
  },
  {
   "cell_type": "code",
   "execution_count": null,
   "id": "74ed2013",
   "metadata": {},
   "outputs": [],
   "source": [
    "# test de la fonction est_circuit_elementaire"
   ]
  },
  {
   "cell_type": "markdown",
   "id": "714c3aa9",
   "metadata": {},
   "source": [
    "#### `est_circuit_simple(g, ls)` : fonction qui indique si la liste des sommets `ls` correspond à un circuit simple, dans le graphe `g`"
   ]
  },
  {
   "cell_type": "code",
   "execution_count": null,
   "id": "3a407536",
   "metadata": {},
   "outputs": [],
   "source": [
    "def est_circuit_simple(g, ls):\n",
    "    raise NotImplementedError"
   ]
  },
  {
   "cell_type": "code",
   "execution_count": null,
   "id": "f2f162a2",
   "metadata": {},
   "outputs": [],
   "source": [
    "#test de la fonction est_circuit_simple"
   ]
  },
  {
   "cell_type": "markdown",
   "id": "7ff99e52",
   "metadata": {},
   "source": [
    "### Sous-graphes"
   ]
  },
  {
   "cell_type": "markdown",
   "id": "95dbeead",
   "metadata": {},
   "source": [
    "#### `est_sous_graphe(g1, g2)` : fonction qui retourne vrai si le graphe `g2` est un sous-graphe du graphe `g1` (`g1` et `g2` doivent avoir le même nombre de sommets)"
   ]
  },
  {
   "cell_type": "code",
   "execution_count": null,
   "id": "a7720bbe",
   "metadata": {},
   "outputs": [],
   "source": [
    "def est_sous_graphe(g1, g2):\n",
    "    raise NotImplementedError"
   ]
  },
  {
   "cell_type": "code",
   "execution_count": null,
   "id": "3fa40ad7",
   "metadata": {},
   "outputs": [],
   "source": [
    "# test de la fonction est_sous_graphe"
   ]
  },
  {
   "cell_type": "markdown",
   "id": "f234f291",
   "metadata": {},
   "source": [
    "#### `sous_graphe(g, ls)` : fonction qui retourne le sous-graphe induit par la liste de sommets donnée (le sous-graphe induit n'aura plus la même numérotation des sommets, s'il en a moins que `g`)"
   ]
  },
  {
   "cell_type": "code",
   "execution_count": null,
   "id": "314e7bbb",
   "metadata": {},
   "outputs": [],
   "source": [
    "def sous_graphe(g, ls):\n",
    "    raise NotImplementedError"
   ]
  },
  {
   "cell_type": "code",
   "execution_count": null,
   "id": "f097bd76",
   "metadata": {},
   "outputs": [],
   "source": [
    "# test de la fonction sous_graphe"
   ]
  }
 ],
 "metadata": {
  "kernelspec": {
   "display_name": "Python 3 (ipykernel)",
   "language": "python",
   "name": "python3"
  },
  "language_info": {
   "codemirror_mode": {
    "name": "ipython",
    "version": 3
   },
   "file_extension": ".py",
   "mimetype": "text/x-python",
   "name": "python",
   "nbconvert_exporter": "python",
   "pygments_lexer": "ipython3",
   "version": "3.11.2"
  }
 },
 "nbformat": 4,
 "nbformat_minor": 5
}
