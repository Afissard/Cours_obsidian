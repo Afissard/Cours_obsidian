{
 "cells": [
  {
   "cell_type": "code",
   "execution_count": 1,
   "metadata": {},
   "outputs": [],
   "source": [
    "import numpy as np\n",
    "import matplotlib.pyplot as plt\n",
    "import math as mt"
   ]
  },
  {
   "cell_type": "code",
   "execution_count": 2,
   "metadata": {},
   "outputs": [],
   "source": [
    "def plot_points(points_courbe,style):\n",
    "    x = []\n",
    "    y = []\n",
    "    for p in points_courbe:\n",
    "        x.append(p[0])\n",
    "        y.append(p[1])\n",
    "    plt.plot(x,y,style)"
   ]
  },
  {
   "cell_type": "code",
   "execution_count": 4,
   "metadata": {},
   "outputs": [
    {
     "ename": "SyntaxError",
     "evalue": "incomplete input (1413380770.py, line 2)",
     "output_type": "error",
     "traceback": [
      "\u001b[1;36m  Cell \u001b[1;32mIn[4], line 2\u001b[1;36m\u001b[0m\n\u001b[1;33m    # On renvoie une liste de N tuples correspondants aux coordonnées de N points de la courbe\u001b[0m\n\u001b[1;37m                                                                                              ^\u001b[0m\n\u001b[1;31mSyntaxError\u001b[0m\u001b[1;31m:\u001b[0m incomplete input\n"
     ]
    }
   ],
   "source": [
    "def courbe_bezier_bern(points_control,N):\n",
    "    # On renvoie une liste de N tuples correspondants aux coordonnées de N points de la courbe"
   ]
  },
  {
   "cell_type": "code",
   "execution_count": 3,
   "metadata": {},
   "outputs": [
    {
     "ename": "NameError",
     "evalue": "name 'courbe_bezier_bern' is not defined",
     "output_type": "error",
     "traceback": [
      "\u001b[1;31m---------------------------------------------------------------------------\u001b[0m",
      "\u001b[1;31mNameError\u001b[0m                                 Traceback (most recent call last)",
      "Cell \u001b[1;32mIn[3], line 12\u001b[0m\n\u001b[0;32m      9\u001b[0m Points\u001b[38;5;241m=\u001b[39m[P0,P1,P2,P3,P4,P5,P6]\n\u001b[0;32m     10\u001b[0m \u001b[38;5;66;03m#Points=[globals()['P'+str(i)] for i in range(7)]\u001b[39;00m\n\u001b[1;32m---> 12\u001b[0m res \u001b[38;5;241m=\u001b[39m \u001b[43mcourbe_bezier_bern\u001b[49m(Points[:\u001b[38;5;241m4\u001b[39m],\u001b[38;5;241m50\u001b[39m)\n\u001b[0;32m     13\u001b[0m test_res\u001b[38;5;241m=\u001b[39m[(\u001b[38;5;241m0.0\u001b[39m, \u001b[38;5;241m0.0\u001b[39m), (\u001b[38;5;241m0.01885778884648403\u001b[39m, \u001b[38;5;241m0.05997501041232819\u001b[39m), (\u001b[38;5;241m0.03865906212547492\u001b[39m, \u001b[38;5;241m0.11745106205747603\u001b[39m), (\u001b[38;5;241m0.05934772076260742\u001b[39m, \u001b[38;5;241m0.17242815493544358\u001b[39m), (\u001b[38;5;241m0.08086766568351621\u001b[39m, \u001b[38;5;241m0.22490628904623072\u001b[39m), (\u001b[38;5;241m0.10316279781383604\u001b[39m, \u001b[38;5;241m0.2748854643898375\u001b[39m), (\u001b[38;5;241m0.12617701807920167\u001b[39m, \u001b[38;5;241m0.322365680966264\u001b[39m), (\u001b[38;5;241m0.14985422740524781\u001b[39m, \u001b[38;5;241m0.3673469387755103\u001b[39m), (\u001b[38;5;241m0.17413832671760915\u001b[39m, \u001b[38;5;241m0.409829237817576\u001b[39m), (\u001b[38;5;241m0.19897321694192047\u001b[39m, \u001b[38;5;241m0.4498125780924615\u001b[39m), (\u001b[38;5;241m0.2243027990038164\u001b[39m, \u001b[38;5;241m0.48729695960016645\u001b[39m), (\u001b[38;5;241m0.2500709738289318\u001b[39m, \u001b[38;5;241m0.5222823823406914\u001b[39m), (\u001b[38;5;241m0.2762216423429013\u001b[39m, \u001b[38;5;241m0.5547688463140358\u001b[39m), (\u001b[38;5;241m0.30269870547135963\u001b[39m, \u001b[38;5;241m0.5847563515201998\u001b[39m), (\u001b[38;5;241m0.3294460641399417\u001b[39m, \u001b[38;5;241m0.6122448979591837\u001b[39m), (\u001b[38;5;241m0.35640761927428194\u001b[39m, \u001b[38;5;241m0.6372344856309871\u001b[39m), (\u001b[38;5;241m0.3835272718000153\u001b[39m, \u001b[38;5;241m0.6597251145356101\u001b[39m), (\u001b[38;5;241m0.4107489226427764\u001b[39m, \u001b[38;5;241m0.679716784673053\u001b[39m), (\u001b[38;5;241m0.4380164727281999\u001b[39m, \u001b[38;5;241m0.6972094960433153\u001b[39m), (\u001b[38;5;241m0.46527382298192077\u001b[39m, \u001b[38;5;241m0.7122032486463974\u001b[39m), (\u001b[38;5;241m0.4924648743295734\u001b[39m, \u001b[38;5;241m0.7246980424822989\u001b[39m), (\u001b[38;5;241m0.519533527696793\u001b[39m, \u001b[38;5;241m0.7346938775510203\u001b[39m), (\u001b[38;5;241m0.5464236840092138\u001b[39m, \u001b[38;5;241m0.7421907538525614\u001b[39m), (\u001b[38;5;241m0.5730792441924707\u001b[39m, \u001b[38;5;241m0.747188671386922\u001b[39m), (\u001b[38;5;241m0.5994441091721987\u001b[39m, \u001b[38;5;241m0.7496876301541024\u001b[39m), (\u001b[38;5;241m0.6254621798740321\u001b[39m, \u001b[38;5;241m0.7496876301541024\u001b[39m), (\u001b[38;5;241m0.6510773572236056\u001b[39m, \u001b[38;5;241m0.747188671386922\u001b[39m), (\u001b[38;5;241m0.6762335421465545\u001b[39m, \u001b[38;5;241m0.7421907538525614\u001b[39m), (\u001b[38;5;241m0.7008746355685131\u001b[39m, \u001b[38;5;241m0.7346938775510206\u001b[39m), (\u001b[38;5;241m0.7249445384151162\u001b[39m, \u001b[38;5;241m0.7246980424822991\u001b[39m), (\u001b[38;5;241m0.7483871516119983\u001b[39m, \u001b[38;5;241m0.7122032486463974\u001b[39m), (\u001b[38;5;241m0.7711463760847945\u001b[39m, \u001b[38;5;241m0.6972094960433154\u001b[39m), (\u001b[38;5;241m0.7931661127591394\u001b[39m, \u001b[38;5;241m0.6797167846730529\u001b[39m), (\u001b[38;5;241m0.8143902625606677\u001b[39m, \u001b[38;5;241m0.6597251145356102\u001b[39m), (\u001b[38;5;241m0.8347627264150141\u001b[39m, \u001b[38;5;241m0.6372344856309871\u001b[39m), (\u001b[38;5;241m0.8542274052478134\u001b[39m, \u001b[38;5;241m0.6122448979591838\u001b[39m), (\u001b[38;5;241m0.8727281999847002\u001b[39m, \u001b[38;5;241m0.5847563515202\u001b[39m), (\u001b[38;5;241m0.8902090115513094\u001b[39m, \u001b[38;5;241m0.5547688463140359\u001b[39m), (\u001b[38;5;241m0.9066137408732755\u001b[39m, \u001b[38;5;241m0.5222823823406915\u001b[39m), (\u001b[38;5;241m0.9218862888762335\u001b[39m, \u001b[38;5;241m0.4872969596001668\u001b[39m), (\u001b[38;5;241m0.935970556485818\u001b[39m, \u001b[38;5;241m0.44981257809246167\u001b[39m), (\u001b[38;5;241m0.9488104446276636\u001b[39m, \u001b[38;5;241m0.40982923781757613\u001b[39m), (\u001b[38;5;241m0.9603498542274053\u001b[39m, \u001b[38;5;241m0.36734693877551033\u001b[39m), (\u001b[38;5;241m0.9705326862106775\u001b[39m, \u001b[38;5;241m0.32236568096626406\u001b[39m), (\u001b[38;5;241m0.9793028415031151\u001b[39m, \u001b[38;5;241m0.27488546438983785\u001b[39m), (\u001b[38;5;241m0.986604221030353\u001b[39m, \u001b[38;5;241m0.22490628904623094\u001b[39m), (\u001b[38;5;241m0.9923807257180257\u001b[39m, \u001b[38;5;241m0.17242815493544372\u001b[39m), (\u001b[38;5;241m0.9965762564917678\u001b[39m, \u001b[38;5;241m0.11745106205747619\u001b[39m), (\u001b[38;5;241m0.9991347142772145\u001b[39m, \u001b[38;5;241m0.059975010412328264\u001b[39m), (\u001b[38;5;241m1.0\u001b[39m, \u001b[38;5;241m0.0\u001b[39m)]\n\u001b[0;32m     14\u001b[0m test_res\u001b[38;5;241m=\u001b[39m[\u001b[38;5;28mlist\u001b[39m(t) \u001b[38;5;28;01mfor\u001b[39;00m t \u001b[38;5;129;01min\u001b[39;00m test_res]\n",
      "\u001b[1;31mNameError\u001b[0m: name 'courbe_bezier_bern' is not defined"
     ]
    },
    {
     "data": {
      "text/plain": [
       "<Figure size 800x600 with 0 Axes>"
      ]
     },
     "metadata": {},
     "output_type": "display_data"
    }
   ],
   "source": [
    "plt.figure(figsize=(8,6))\n",
    "P0 = (0,0)\n",
    "P1 = (0.3,1)\n",
    "P2 = (1,1)\n",
    "P3 = (1,0)\n",
    "P4 = (1,-1)\n",
    "P5 = (1.4,-0.3)\n",
    "P6 = (2,0)\n",
    "Points=[P0,P1,P2,P3,P4,P5,P6]\n",
    "#Points=[globals()['P'+str(i)] for i in range(7)]\n",
    "\n",
    "res = courbe_bezier_bern(Points[:4],50)\n",
    "test_res=[(0.0, 0.0), (0.01885778884648403, 0.05997501041232819), (0.03865906212547492, 0.11745106205747603), (0.05934772076260742, 0.17242815493544358), (0.08086766568351621, 0.22490628904623072), (0.10316279781383604, 0.2748854643898375), (0.12617701807920167, 0.322365680966264), (0.14985422740524781, 0.3673469387755103), (0.17413832671760915, 0.409829237817576), (0.19897321694192047, 0.4498125780924615), (0.2243027990038164, 0.48729695960016645), (0.2500709738289318, 0.5222823823406914), (0.2762216423429013, 0.5547688463140358), (0.30269870547135963, 0.5847563515201998), (0.3294460641399417, 0.6122448979591837), (0.35640761927428194, 0.6372344856309871), (0.3835272718000153, 0.6597251145356101), (0.4107489226427764, 0.679716784673053), (0.4380164727281999, 0.6972094960433153), (0.46527382298192077, 0.7122032486463974), (0.4924648743295734, 0.7246980424822989), (0.519533527696793, 0.7346938775510203), (0.5464236840092138, 0.7421907538525614), (0.5730792441924707, 0.747188671386922), (0.5994441091721987, 0.7496876301541024), (0.6254621798740321, 0.7496876301541024), (0.6510773572236056, 0.747188671386922), (0.6762335421465545, 0.7421907538525614), (0.7008746355685131, 0.7346938775510206), (0.7249445384151162, 0.7246980424822991), (0.7483871516119983, 0.7122032486463974), (0.7711463760847945, 0.6972094960433154), (0.7931661127591394, 0.6797167846730529), (0.8143902625606677, 0.6597251145356102), (0.8347627264150141, 0.6372344856309871), (0.8542274052478134, 0.6122448979591838), (0.8727281999847002, 0.5847563515202), (0.8902090115513094, 0.5547688463140359), (0.9066137408732755, 0.5222823823406915), (0.9218862888762335, 0.4872969596001668), (0.935970556485818, 0.44981257809246167), (0.9488104446276636, 0.40982923781757613), (0.9603498542274053, 0.36734693877551033), (0.9705326862106775, 0.32236568096626406), (0.9793028415031151, 0.27488546438983785), (0.986604221030353, 0.22490628904623094), (0.9923807257180257, 0.17242815493544372), (0.9965762564917678, 0.11745106205747619), (0.9991347142772145, 0.059975010412328264), (1.0, 0.0)]\n",
    "test_res=[list(t) for t in test_res]\n",
    "res=[list(t) for t in res]\n",
    "print('test courbe_bezier_bern : ',np.count_nonzero(np.isclose(test_res,res))==len(res)*2)\n",
    "plot_points(res,'r-')\n",
    "plot_points([P0,P1,P2,P3],'o')\n",
    "\n",
    "points2 = courbe_bezier_bern(Points[3:],50)\n",
    "plot_points(points2,'-')\n",
    "plot_points([P4,P5,P6],'o')\n",
    "\n",
    "for i in range(7):\n",
    "    plt.annotate('P'+str(i), xy=(Points[i][0], Points[i][1]), xytext=(Points[i][0]-0.1, Points[i][1]))\n",
    "plt.axis([-0.5,2.5,-2,2])\n",
    "plt.grid()\n",
    "plt.show()"
   ]
  },
  {
   "cell_type": "code",
   "execution_count": null,
   "metadata": {},
   "outputs": [],
   "source": [
    "def bary(A,B,t):"
   ]
  },
  {
   "cell_type": "code",
   "execution_count": null,
   "metadata": {},
   "outputs": [],
   "source": [
    "res=bary(P4,P5,0.6)\n",
    "test_res=(1.24, -0.58)\n",
    "print('test bary : ',np.count_nonzero(np.isclose(list(res),list(test_res)))==2)"
   ]
  },
  {
   "cell_type": "code",
   "execution_count": null,
   "metadata": {},
   "outputs": [],
   "source": [
    "def reduction(points_control,t):"
   ]
  },
  {
   "cell_type": "code",
   "execution_count": null,
   "metadata": {},
   "outputs": [],
   "source": [
    "res=reduction([P0,P1,P2,P3],0.7)\n",
    "test_res=[(0.21, 0.7), (0.7899999999999999, 1.0), (1.0, 0.30000000000000004)]\n",
    "test_res=[list(t) for t in test_res]\n",
    "res=[list(t) for t in res]\n",
    "print('test reduction : ',np.count_nonzero(np.isclose(res,test_res))==len(test_res)*2)"
   ]
  },
  {
   "cell_type": "code",
   "execution_count": null,
   "metadata": {},
   "outputs": [],
   "source": [
    "def point_bezier_geom(points_control,t):"
   ]
  },
  {
   "cell_type": "code",
   "execution_count": null,
   "metadata": {},
   "outputs": [],
   "source": [
    "res=point_bezier_geom([P0,P1,P2,P3],0.7)\n",
    "test_res=(0.8406999999999999, 0.63)\n",
    "print('test point_bezier_geom : ',np.count_nonzero(np.isclose(list(res),list(test_res)))==2)"
   ]
  },
  {
   "cell_type": "code",
   "execution_count": null,
   "metadata": {},
   "outputs": [],
   "source": [
    "def courbe_bezier_geom(points_control,N):"
   ]
  },
  {
   "cell_type": "code",
   "execution_count": null,
   "metadata": {},
   "outputs": [],
   "source": [
    "res=courbe_bezier_geom([P0,P1,P2],10)\n",
    "test_res=[(0.0, 0.0), (0.07160493827160493, 0.20987654320987653), (0.1530864197530864, 0.3950617283950617), (0.2444444444444444, 0.5555555555555556), (0.345679012345679, 0.691358024691358), (0.45679012345679015, 0.8024691358024691), (0.5777777777777777, 0.8888888888888888), (0.7086419753086418, 0.9506172839506173), (0.8493827160493826, 0.9876543209876543), (1.0, 1.0)]\n",
    "test_res=[list(t) for t in test_res]\n",
    "res=[list(t) for t in res]\n",
    "print('test courbe_bezier_geom : ',np.count_nonzero(np.isclose(test_res,res))==len(res)*2)"
   ]
  },
  {
   "cell_type": "code",
   "execution_count": null,
   "metadata": {},
   "outputs": [],
   "source": [
    "plt.figure(figsize=(8,6))\n",
    "A0=(-1.5,-1.5)\n",
    "A1=(-1,-0.8)\n",
    "A2=(-0.5,-0.5)\n",
    "A3=(0,-0.5)\n",
    "plot_points(courbe_bezier_geom([A0,A1,A2,A3],50),style='-')\n",
    "plot_points([A0,A1,A2,A3],style='o')\n",
    "plt.axis([-2,0.5,-2,0.5])\n",
    "plt.grid()\n",
    "plt.show()"
   ]
  },
  {
   "cell_type": "code",
   "execution_count": null,
   "metadata": {},
   "outputs": [],
   "source": [
    "def vecteur_unitaire(P1,P2):"
   ]
  },
  {
   "cell_type": "code",
   "execution_count": null,
   "metadata": {},
   "outputs": [],
   "source": [
    "res=vecteur_unitaire(P1,P5)\n",
    "test_res=(0.6459422414661738, -0.7633862853691146)\n",
    "print('test vecteur_unitaire : ',np.count_nonzero(np.isclose(list(res),list(test_res)))==2)"
   ]
  },
  {
   "cell_type": "code",
   "execution_count": null,
   "metadata": {},
   "outputs": [],
   "source": [
    "def test_alignement_4pts(points,epsilon):"
   ]
  },
  {
   "cell_type": "code",
   "execution_count": null,
   "metadata": {},
   "outputs": [],
   "source": [
    "points1=[(0.9110260009765625, 0.5126953125), (0.918951416015625, 0.4951171875), (0.92642822265625, 0.4765625), (0.9334228515625, 0.45703125)]\n",
    "points2=[(0.9693359375, 0.328125), (0.9890625, 0.234375), (1.0, 0.125), (1, 0)]\n",
    "epsilon=0.005\n",
    "print('test test_alignement_4pts : ',test_alignement_4pts(points1,epsilon)==True)\n",
    "print('test test_alignement_4pts : ',test_alignement_4pts(points2,epsilon)==False)"
   ]
  },
  {
   "cell_type": "code",
   "execution_count": null,
   "metadata": {},
   "outputs": [],
   "source": [
    "def division_courbe_bezier(points_control):"
   ]
  },
  {
   "cell_type": "code",
   "execution_count": null,
   "metadata": {},
   "outputs": [],
   "source": [
    "res=division_courbe_bezier([P0,P1,P2,P3])\n",
    "test_res=([(0, 0), (0.15, 0.5), (0.4, 0.75), (0.6125, 0.75)], [(0.6125, 0.75), (0.825, 0.75), (1.0, 0.5), (1, 0)])\n",
    "test_res=[list(t) for t in test_res]\n",
    "res=[list(t) for t in res]\n",
    "print('test division_courbe_bezier : ',np.count_nonzero(np.isclose(test_res,res))==np.array(res).size)"
   ]
  },
  {
   "cell_type": "code",
   "execution_count": null,
   "metadata": {},
   "outputs": [],
   "source": [
    "def courbe_bezier_cast_helper(points_control,epsilon,points_courbe):"
   ]
  },
  {
   "cell_type": "code",
   "execution_count": null,
   "metadata": {},
   "outputs": [],
   "source": [
    "def courbe_bezier_cast(points_control,epsilon):"
   ]
  },
  {
   "cell_type": "code",
   "execution_count": null,
   "metadata": {},
   "outputs": [],
   "source": [
    "P0 = (0,0)\n",
    "P1 = (0.3,1)\n",
    "P2 = (1,1)\n",
    "P3 = (1,0)\n",
    "plt.figure()\n",
    "epsilon=5e-3\n",
    "points = courbe_bezier_3_cast([P0,P1,P2,P3],epsilon)\n",
    "plot_points(points,style='.')\n",
    "plot_points(points,style='r-')\n",
    "plot_points([P0,P1,P2,P3],style='o')\n",
    "plt.axis([0,2,0,2])\n",
    "plt.grid()\n",
    "plt.show()"
   ]
  },
  {
   "cell_type": "code",
   "execution_count": null,
   "metadata": {},
   "outputs": [],
   "source": [
    "P0 = (0,0)\n",
    "P1 = (0.3,1)\n",
    "P2 = (1,1)\n",
    "P3 = (1,0)\n",
    "epsilon=0.05\n",
    "res = courbe_bezier_cast([P0,P1,P2,P3],epsilon)\n",
    "test_res=[(0, 0), (0.2828125, 0.5625), (0.4482421875, 0.703125), (0.5313232421875, 0.73828125), (0.6125, 0.75), (0.6901611328125, 0.73828125), (0.7626953125, 0.703125), (0.8284912109375, 0.64453125), (0.8859375, 0.5625), (0.9693359375, 0.328125), (1, 0)]\n",
    "test_res=[list(t) for t in test_res]\n",
    "res=[list(t) for t in res]\n",
    "print('test courbe_bezier_cast : ',np.count_nonzero(np.isclose(test_res,res))==len(res)*2)\n",
    "'''plot_points(res,style='.')\n",
    "plot_points(res,style='r-')\n",
    "plot_points([P0,P1,P2,P3],style='o')\n",
    "plt.axis([0,2,0,2])\n",
    "plt.grid()\n",
    "plt.show()'''"
   ]
  },
  {
   "cell_type": "code",
   "execution_count": null,
   "metadata": {},
   "outputs": [],
   "source": [
    "points_char_a=[(153,-12),(95,-12),(37,39),(37,115),\\\n",
    "               #P0->P4\n",
    "               (37,227),(146,277),(264,325),\\\n",
    "               #P3->P6\n",
    "               (330,352),\\\n",
    "               #P6P7\n",
    "               (330,407),\\\n",
    "               #P7P8\n",
    "               (330,474),(308,516),(243,516),\\\n",
    "               #P8->P11\n",
    "               (202,516),(165,493),(165,459),\\\n",
    "               #P11->P14\n",
    "               (165,449),(168,430),(168,420),\\\n",
    "               #P14->P17\n",
    "               (168,378),(147,360),(114,360),\\\n",
    "               #P17->P20\n",
    "               (83,360),(61,385),(61,417),\\\n",
    "               #P20->P23\n",
    "               (61,478),(126,551),(253,551),\\\n",
    "               #P23->P26\n",
    "               (415,551),(431,449),(431,362),\\\n",
    "               #P26->P29\n",
    "               (431,147),\\\n",
    "               #P29P30\n",
    "               (431,85),(434,59),(468,59),\\\n",
    "               #P30->P33\n",
    "               (479,59),(484,64),(512,80),\\\n",
    "               #P33->P36\n",
    "               (512,43),\\\n",
    "               #P36P37\n",
    "               (458,2),(448,-12),(415,-12),\\\n",
    "               (346,-12),(337,32),(330,69),\\\n",
    "               (294,39),(244,-12),(153,-12)]\n",
    "\n",
    "points_char_a2=[(143,153),(143,94),(178,60),(220,60),\\\n",
    "                #Q0->Q3\n",
    "                (277,60),(310,95),(330,113),\\\n",
    "                #Q3->Q6\n",
    "                (330,313),\\\n",
    "                #Q6Q7\n",
    "                (269,288),\\\n",
    "                #Q7Q8\n",
    "                (207,263),(143,221),(143,153)]\n",
    "                #Q8->Q9\n",
    "                \n",
    "plt.figure(figsize=(8,6))\n",
    "\n",
    "fonc_utilisee=courbe_bezier_geom\n",
    "precision=50\n",
    "\n",
    "plot_points(fonc_utilisee(points_char_a[:4],precision),style='b-')\n",
    "#plot_points(points_char_a[:4],style='o')\n",
    "plot_points(fonc_utilisee(points_char_a[3:7],precision),style='b-')\n",
    "#plot_points(points_char_a[6:9],style='o')\n",
    "plot_points(points_char_a[6:9],style='b-')#segments P6P7 et P7P8\n",
    "plot_points(fonc_utilisee(points_char_a[8:12],precision),style='b-')\n",
    "plot_points(fonc_utilisee(points_char_a[11:15],precision),style='b-')\n",
    "plot_points(fonc_utilisee(points_char_a[14:18],precision),style='b-')\n",
    "plot_points(fonc_utilisee(points_char_a[17:21],precision),style='b-')\n",
    "plot_points(fonc_utilisee(points_char_a[20:24],precision),style='b-')\n",
    "plot_points(fonc_utilisee(points_char_a[23:27],precision),style='b-')\n",
    "plot_points(fonc_utilisee(points_char_a[26:30],precision),style='b-')\n",
    "plot_points(points_char_a[29:31],style='b-')\n",
    "plot_points(fonc_utilisee(points_char_a[30:34],precision),style='b-')\n",
    "plot_points(fonc_utilisee(points_char_a[33:37],precision),style='b-')\n",
    "plot_points(points_char_a[36:38],style='b-')\n",
    "plot_points(fonc_utilisee(points_char_a[37:41],precision),style='b-')\n",
    "plot_points(fonc_utilisee(points_char_a[40:44],precision),style='b-')\n",
    "plot_points(fonc_utilisee(points_char_a[43:47],precision),style='b-')\n",
    "plot_points(fonc_utilisee(points_char_a[:4],precision),style='b-')\n",
    "\n",
    "plot_points(fonc_utilisee(points_char_a2[:4],precision),style='b-')\n",
    "plot_points(fonc_utilisee(points_char_a2[3:7],precision),style='b-')\n",
    "plot_points(points_char_a2[6:8],style='b-')\n",
    "plot_points(points_char_a2[7:9],style='b-')\n",
    "plot_points(fonc_utilisee(points_char_a2[8:12],precision),style='b-')\n",
    "plt.grid()\n",
    "plt.show()"
   ]
  }
 ],
 "metadata": {
  "kernelspec": {
   "display_name": "base",
   "language": "python",
   "name": "python3"
  },
  "language_info": {
   "codemirror_mode": {
    "name": "ipython",
    "version": 3
   },
   "file_extension": ".py",
   "mimetype": "text/x-python",
   "name": "python",
   "nbconvert_exporter": "python",
   "pygments_lexer": "ipython3",
   "version": "3.11.2"
  }
 },
 "nbformat": 4,
 "nbformat_minor": 2
}
