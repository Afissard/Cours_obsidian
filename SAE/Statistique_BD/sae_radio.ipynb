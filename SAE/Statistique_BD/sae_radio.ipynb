{
 "cells": [
  {
   "cell_type": "markdown",
   "metadata": {},
   "source": [
    "# SAE Radio (Statistique descriptive / BD)"
   ]
  },
  {
   "cell_type": "code",
   "execution_count": 1,
   "metadata": {},
   "outputs": [],
   "source": [
    "import numpy as np\n",
    "import pandas as pd\n",
    "import scipy.stats as st\n",
    "\n",
    "path=''\n",
    "reponses=pd.read_csv(path+'reponses_radio_sauv.csv',sep=';')\n",
    "data_audience = pd.read_csv(path+'audience_cumulee_radio.csv',sep=';', decimal=',', na_values=np.nan, skip_blank_lines=False) # decimal=',' nécessaire sinon convertie en str "
   ]
  },
  {
   "cell_type": "code",
   "execution_count": 2,
   "metadata": {},
   "outputs": [],
   "source": [
    "def showDF(df):\n",
    "    print(\"\\n\", df.head(10), \"\\n\")"
   ]
  },
  {
   "cell_type": "code",
   "execution_count": 3,
   "metadata": {},
   "outputs": [
    {
     "name": "stdout",
     "output_type": "stream",
     "text": [
      "\n",
      "        Style musical    Radio\n",
      "0                Pop  Radio 5\n",
      "1  Musique classique  Radio 1\n",
      "2      Hip-Hop & RnB  Radio 3\n",
      "3      Hip-Hop & RnB  Radio 6\n",
      "4               Rock  Radio 3\n",
      "5            Variété  Radio 5\n",
      "6                Pop  Radio 3\n",
      "7            Electro  Radio 5\n",
      "8      Hip-Hop & RnB  Radio 6\n",
      "9               Jazz  Radio 2 \n",
      "\n"
     ]
    }
   ],
   "source": [
    "showDF(reponses)"
   ]
  },
  {
   "cell_type": "markdown",
   "metadata": {},
   "source": [
    "## Partie 1"
   ]
  },
  {
   "cell_type": "code",
   "execution_count": 4,
   "metadata": {},
   "outputs": [
    {
     "name": "stdout",
     "output_type": "stream",
     "text": [
      "\n",
      " Radio              Radio 1  Radio 2  Radio 3  Radio 4  Radio 5  Radio 6\n",
      "Style musical                                                          \n",
      "Electro                 12       11       39       42       18       19\n",
      "Hip-Hop & RnB            4        6       46       18       31       58\n",
      "Indie                    4        9       14        8       15        7\n",
      "Jazz                    17       15       19        9       14        9\n",
      "Musique classique       23       16       11        3        2        1\n",
      "Pop                      5       27       31       17       37       67\n",
      "Rock                    20       34       33       15       33       30\n",
      "Variété                  6       54       28       16       20       27 \n",
      "\n",
      "test calcul_eff_obs :  True\n",
      "test calcul_eff_obs :  True\n"
     ]
    }
   ],
   "source": [
    "def calcul_eff_obs():\n",
    "    # .groupby().size() -> obtention de la valeur\n",
    "    # .unstack()        -> déplace l'une des colone en index\n",
    "    res = reponses.groupby(['Radio', 'Style musical']).size().unstack(level=0) # donnée ordonné\n",
    "    \n",
    "    showDF(res)\n",
    "    return res # un dataframe\n",
    "\n",
    "res_list_electro=[12,11,39,42,18,19]\n",
    "res_list_radio3=[39, 46, 14, 19, 11, 31, 33, 28]\n",
    "eff_obs=calcul_eff_obs()\n",
    "print('test calcul_eff_obs : ',len(res_list_electro)-list(np.isclose(eff_obs.loc['Electro'],res_list_electro)).count(True)==0)\n",
    "print('test calcul_eff_obs : ',len(res_list_radio3)-list(np.isclose(eff_obs['Radio 3'],res_list_radio3)).count(True)==0)\n"
   ]
  },
  {
   "cell_type": "code",
   "execution_count": 5,
   "metadata": {},
   "outputs": [
    {
     "name": "stdout",
     "output_type": "stream",
     "text": [
      "\n",
      " Radio             Radio 1 Radio 2 Radio 3 Radio 4 Radio 5 Radio 6\n",
      "Style musical                                                    \n",
      "Electro            12.831  24.252  31.161  18.048   23.97  30.738\n",
      "Hip-Hop & RnB      14.833  28.036  36.023  20.864   27.71  35.534\n",
      "Indie               5.187   9.804  12.597   7.296    9.69  12.426\n",
      "Jazz                7.553  14.276  18.343  10.624   14.11  18.094\n",
      "Musique classique   5.096   9.632  12.376   7.168    9.52  12.208\n",
      "Pop                16.744  31.648  40.664  23.552   31.28  40.112\n",
      "Rock               15.015   28.38  36.465   21.12   28.05   35.97\n",
      "Variété            13.741  25.972  33.371  19.328   25.67  32.918 \n",
      "\n",
      "test calcul_eff_theo :  True\n",
      "test calcul_eff_theo :  True\n"
     ]
    }
   ],
   "source": [
    "def calcul_eff_theo():\n",
    "    tot_col = eff_obs.sum(axis=0)\n",
    "    tot_row = eff_obs.sum(axis=1)\n",
    "    tot_ech = eff_obs.sum().sum()\n",
    "    \n",
    "    res = pd.DataFrame(index=eff_obs.index, columns=eff_obs.columns)\n",
    "    for style in res.index:\n",
    "        for radio in res.columns:\n",
    "            res.loc[style, radio] = (tot_col[radio]*tot_row[style])/tot_ech # calcul des valeurs une à une\n",
    "    \n",
    "    showDF(res)\n",
    "    return res # un dataframe\n",
    "\n",
    "res_list_indie=[5.187, 9.804, 12.597, 7.296, 9.69, 12.426]\n",
    "res_list_radio6=[30.738, 35.534, 12.426, 18.094, 12.208, 40.112, 35.97, 32.918]\n",
    "eff_theo=calcul_eff_theo()\n",
    "print('test calcul_eff_theo : ',len(res_list_indie)-list(np.isclose(eff_theo.loc['Indie'].to_list(),res_list_indie)).count(True)==0)\n",
    "print('test calcul_eff_theo : ',len(res_list_radio6)-list(np.isclose(eff_theo['Radio 6'].to_list(),res_list_radio6)).count(True)==0)\n"
   ]
  },
  {
   "cell_type": "code",
   "execution_count": 6,
   "metadata": {},
   "outputs": [
    {
     "name": "stdout",
     "output_type": "stream",
     "text": [
      "\n",
      " Radio                Radio 1    Radio 2   Radio 3    Radio 4   Radio 5  \\\n",
      "Style musical                                                            \n",
      "Electro              0.05382   7.241279  1.972014  31.787362  1.486896   \n",
      "Hip-Hop & RnB       7.911676  17.320063  2.763249   0.393141  0.390621   \n",
      "Indie               0.271635   0.065934   0.15626    0.06793  2.909814   \n",
      "Jazz               11.815942   0.036717  0.023532   0.248247  0.000858   \n",
      "Musique classique  62.902907   4.210073  0.152988    2.42358  5.940168   \n",
      "Pop                 8.237072   0.682631  2.296697    1.82272  1.045985   \n",
      "Rock                1.655027   1.112911  0.329253   1.773409  0.873529   \n",
      "Variété             4.360897  30.246757  0.864452   0.573033  1.252392   \n",
      "\n",
      "Radio                Radio 6  \n",
      "Style musical                 \n",
      "Electro             4.482421  \n",
      "Hip-Hop & RnB      14.203894  \n",
      "Indie               2.369345  \n",
      "Jazz                4.570622  \n",
      "Musique classique  10.289913  \n",
      "Pop                18.023647  \n",
      "Rock                0.990851  \n",
      "Variété             1.063938   \n",
      "\n",
      "test calcul_contrib :  True\n",
      "test calcul_contrib :  True\n"
     ]
    }
   ],
   "source": [
    "def calcul_contrib():\n",
    "    # la formule est directement appliquer sur les 2 dataframe, pandas s'occupe du reste\n",
    "    res = (eff_obs - eff_theo)**2/eff_theo\n",
    "    \n",
    "    showDF(res)\n",
    "    return res # un dataframe\n",
    "\n",
    "res_list_rock=[1.6550266400266396, 1.1129105003523614, 0.329253393665159, 1.7734090909090914, 0.8735294117647057, 0.9908507089241031]\n",
    "res_list_radio1=[0.05381973345803127, 7.911675925301693, 0.2716346635820321, 11.815941877399705, 62.902907378335954, 8.237072145246058, 1.6550266400266396, 4.360896659631758]\n",
    "contrib=calcul_contrib()\n",
    "print('test calcul_contrib : ',len(res_list_rock)-list(np.isclose(contrib.loc['Rock'].to_list(),res_list_rock)).count(True)==0)\n",
    "print('test calcul_contrib : ',len(res_list_radio1)-list(np.isclose(contrib['Radio 1'].to_list(),res_list_radio1)).count(True)==0)\n"
   ]
  },
  {
   "cell_type": "code",
   "execution_count": 7,
   "metadata": {},
   "outputs": [
    {
     "name": "stdout",
     "output_type": "stream",
     "text": [
      "\n",
      " Radio    Style musical    \n",
      "Radio 1  Musique classique    62.902907\n",
      "Radio 4  Electro              31.787362\n",
      "Radio 2  Variété              30.246757\n",
      "Radio 6  Pop                  18.023647\n",
      "Radio 2  Hip-Hop & RnB        17.320063\n",
      "dtype: object \n",
      "\n",
      "('Musique classique', 'Radio 1', '+', 62.902907378335954)\n",
      "('Electro', 'Radio 4', '+', 31.78736170212767)\n",
      "('Variété', 'Radio 2', '+', 30.24675743107962)\n",
      "('Pop', 'Radio 6', '+', 18.023647387315513)\n",
      "('Hip-Hop & RnB', 'Radio 2', '-', 17.320063347125128)\n",
      "\n",
      "test analyse_contrib :  True\n"
     ]
    }
   ],
   "source": [
    "\n",
    "def analyse_contrib(n):\n",
    "    \"\"\"\n",
    "    renvoie une liste de tuples au format suivant :  \n",
    "    (mod_style,mod_radio,signe,contrib) où signe sera représenté par le caractère '+'\n",
    "    si l’effectif observé est supérieur à l’effectif théorique (tendance à une certaine attraction\n",
    "    entre ces deux modalités) et par le caractère '-'si l’effectif observé est inférieur à l’effectif\n",
    "    théorique (tendance à une certaine répulsion entre ces deux modalités)\n",
    "    \"\"\"\n",
    "    res = []\n",
    "    \n",
    "    # contrib.unstack               -> passe les donnée (radio) en colone en index\n",
    "    # .sort_values(ascending=False) -> trie les donnée pour avoir les valeurs les plus grande en haut\n",
    "    # .head(n)                      -> prend le nombre n de donnée demandé\n",
    "    temp = contrib.unstack().sort_values(ascending=False).head(n)\n",
    "    showDF(temp)\n",
    "    \n",
    "    for i in temp.index :\n",
    "        signe = \"\"\n",
    "        if eff_obs.loc[i[1], i[0]] > eff_theo.loc[i[1], i[0]]: signe = \"+\"\n",
    "        else : signe = \"-\"\n",
    "        res.append((i[1], i[0], signe, temp.loc[i[0], i[1]]))\n",
    "        \n",
    "        # Todo demander à léa\n",
    "        # style, radio = temp.index[i]\n",
    "        # if eff_obs.loc[style, radio] > eff_theo.loc[style, radio]: signe = \"+\"\n",
    "        # else : signe = \"-\"\n",
    "        # res.append((style, radio, signe, temp.iloc[style, radio]))\n",
    "        \n",
    "    \n",
    "    for i in res : print(i)\n",
    "    print(\"\")\n",
    "    return res # une liste de tuples\n",
    "\n",
    "ntest=5\n",
    "ana_contrib=analyse_contrib(ntest)\n",
    "\n",
    "res_list=[\n",
    "    ('Musique classique', 'Radio 1', '+', 62.902907378335954), \n",
    "    ('Electro', 'Radio 4', '+', 31.78736170212767), \n",
    "    ('Variété', 'Radio 2', '+', 30.24675743107962), \n",
    "    ('Pop', 'Radio 6', '+', 18.023647387315513), \n",
    "    ('Hip-Hop & RnB', 'Radio 2', '-', 17.320063347125128)\n",
    "]\n",
    "test_contrib=(list(np.isclose([res_list[i][3] for i in range(ntest)],[ana_contrib[i][3] for i in range(ntest)])).count(True)==ntest)\n",
    "test_sens_dep=([res_list[i][3]==ana_contrib[i][3] for i in range(ntest)].count(True)==ntest)\n",
    "test_radios=([res_list[i][1]==ana_contrib[i][1] for i in range(ntest)].count(True)==ntest)\n",
    "print('test analyse_contrib : ',test_contrib and test_sens_dep and test_radios)\n"
   ]
  },
  {
   "cell_type": "markdown",
   "metadata": {},
   "source": [
    "## Partie 2"
   ]
  },
  {
   "cell_type": "code",
   "execution_count": 8,
   "metadata": {},
   "outputs": [
    {
     "name": "stdout",
     "output_type": "stream",
     "text": [
      "\n",
      "    Annee  Periode    AC\n",
      "0   2016        1  80.6\n",
      "1   2016        2  79.1\n",
      "2   2016        3  79.7\n",
      "3   2016        4  80.8\n",
      "4   2017        1  80.2\n",
      "5   2017        2  79.0\n",
      "6   2017        3  79.5\n",
      "7   2017        4  79.4\n",
      "8   2018        1  79.5\n",
      "9   2018        2  78.9 \n",
      "\n"
     ]
    }
   ],
   "source": [
    "showDF(data_audience)"
   ]
  },
  {
   "cell_type": "code",
   "execution_count": 10,
   "metadata": {},
   "outputs": [
    {
     "name": "stdout",
     "output_type": "stream",
     "text": [
      "test decomp_serie moy mob :  True\n",
      "test decomp_serie coef sais :  True\n"
     ]
    }
   ],
   "source": [
    "def decomp_serie():\n",
    "    # serie_mm = data_audience['AC'].rolling(window=4, center=True).mean() # skipna=True ne marche pas\n",
    "    # serie_coef_sais = data_audience['AC'] / serie_mm # coef_sais = AC / mm\n",
    "    # print(serie_mm, serie_coef_sais)\n",
    "    \n",
    "    rolling1 = data_audience['AC'].rolling(window=4, center=True).mean()\n",
    "    rolling2 = data_audience['AC'].rolling(window=4, center=True).mean().shift(-1)\n",
    "    mm = (rolling2 + rolling1)/2\n",
    "   \n",
    "    s1 = data_audience['AC'] / mm\n",
    "    data_audience['S1'] = s1\n",
    "    s2 = data_audience.groupby('Periode')['S1'].mean()\n",
    "    meanS2 = s2.mean()\n",
    "    s3 = s2 / meanS2\n",
    "\n",
    "    serie_mm_df = pd.Series(mm)\n",
    "    serie_coef_sais = pd.Series(s3)\n",
    "\n",
    "    return serie_mm_df,serie_coef_sais\n",
    "    # return serie_mm, serie_coef_sais # serie_mm, serie_coef_sais\n",
    "\n",
    "res_moy_mob=[np.nan, np.nan, 80.0, 79.9375, 79.9, 79.7, 79.4375, 79.3375, 79.2125, 78.9875, 78.7, 78.35, 77.9125, 77.575, 77.4375, np.nan, np.nan, np.nan, np.nan, np.nan, 73.35, 73.26249999999999, 73.225, 73.1375, 72.7375, 71.925, 71.35, 71.125, 70.7375, 70.2375, np.nan, np.nan]\n",
    "coef_sais={}\n",
    "coef_sais['T2']=0.992730\n",
    "coef_sais['T4']=1.006176\n",
    "serie_mm,serie_coef_sais=decomp_serie()\n",
    "print('test decomp_serie moy mob : ',list(np.isclose(np.nan_to_num(serie_mm.values),np.nan_to_num(np.array(res_moy_mob)))).count(True)==len(res_moy_mob) )\n",
    "print('test decomp_serie coef sais : ',np.isclose(serie_coef_sais.loc[2],coef_sais['T2']) and np.isclose(serie_coef_sais.loc[4],coef_sais['T4']))\n"
   ]
  },
  {
   "cell_type": "code",
   "execution_count": null,
   "metadata": {},
   "outputs": [],
   "source": [
    "def prevision(annee_prev,trim_prev,serie_coef_sais):\n",
    "    return # une valeur\n",
    "\n",
    "prev=prevision(2024,4,serie_coef_sais)\n",
    "res=68.7763620276032\n",
    "print('test prévision : ',np.isclose(prev,res))"
   ]
  }
 ],
 "metadata": {
  "kernelspec": {
   "display_name": "Python 3",
   "language": "python",
   "name": "python3"
  },
  "language_info": {
   "codemirror_mode": {
    "name": "ipython",
    "version": 3
   },
   "file_extension": ".py",
   "mimetype": "text/x-python",
   "name": "python",
   "nbconvert_exporter": "python",
   "pygments_lexer": "ipython3",
   "version": "3.12.3"
  }
 },
 "nbformat": 4,
 "nbformat_minor": 2
}
