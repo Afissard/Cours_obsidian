{
 "cells": [
  {
   "cell_type": "markdown",
   "metadata": {},
   "source": [
    "# SAE Radio (Statistique descriptive / BD)"
   ]
  },
  {
   "cell_type": "code",
   "execution_count": 3,
   "metadata": {},
   "outputs": [],
   "source": [
    "import numpy as np\n",
    "import pandas as pd\n",
    "import scipy.stats as st\n",
    "\n",
    "path=''\n",
    "reponses=pd.read_csv(path+'reponses_radio_sauv.csv',sep=';')\n",
    "data_audience = pd.read_csv(path+'audience_cumulee_radio.csv',sep=';')"
   ]
  },
  {
   "cell_type": "code",
   "execution_count": 16,
   "metadata": {},
   "outputs": [],
   "source": [
    "def showDF(df):\n",
    "    print(\"\\n\", df.head(10), \"\\n\")"
   ]
  },
  {
   "cell_type": "code",
   "execution_count": 17,
   "metadata": {},
   "outputs": [
    {
     "name": "stdout",
     "output_type": "stream",
     "text": [
      "\n",
      "        Style musical    Radio\n",
      "0                Pop  Radio 5\n",
      "1  Musique classique  Radio 1\n",
      "2      Hip-Hop & RnB  Radio 3\n",
      "3      Hip-Hop & RnB  Radio 6\n",
      "4               Rock  Radio 3\n",
      "5            Variété  Radio 5\n",
      "6                Pop  Radio 3\n",
      "7            Electro  Radio 5\n",
      "8      Hip-Hop & RnB  Radio 6\n",
      "9               Jazz  Radio 2 \n",
      "\n"
     ]
    }
   ],
   "source": [
    "showDF(reponses)"
   ]
  },
  {
   "cell_type": "code",
   "execution_count": 18,
   "metadata": {},
   "outputs": [
    {
     "name": "stdout",
     "output_type": "stream",
     "text": [
      "\n",
      "    Annee  Periode    AC\n",
      "0   2016        1  80,6\n",
      "1   2016        2  79,1\n",
      "2   2016        3  79,7\n",
      "3   2016        4  80,8\n",
      "4   2017        1  80,2\n",
      "5   2017        2    79\n",
      "6   2017        3  79,5\n",
      "7   2017        4  79,4\n",
      "8   2018        1  79,5\n",
      "9   2018        2  78,9 \n",
      "\n"
     ]
    }
   ],
   "source": [
    "showDF(data_audience)"
   ]
  },
  {
   "cell_type": "markdown",
   "metadata": {},
   "source": [
    "## Partie 1"
   ]
  },
  {
   "cell_type": "code",
   "execution_count": 57,
   "metadata": {},
   "outputs": [
    {
     "name": "stdout",
     "output_type": "stream",
     "text": [
      "\n",
      " Radio              Radio 1  Radio 2  Radio 3  Radio 4  Radio 5  Radio 6\n",
      "Style musical                                                          \n",
      "Electro                 12       11       39       42       18       19\n",
      "Hip-Hop & RnB            4        6       46       18       31       58\n",
      "Indie                    4        9       14        8       15        7\n",
      "Jazz                    17       15       19        9       14        9\n",
      "Musique classique       23       16       11        3        2        1\n",
      "Pop                      5       27       31       17       37       67\n",
      "Rock                    20       34       33       15       33       30\n",
      "Variété                  6       54       28       16       20       27 \n",
      "\n",
      "test calcul_eff_obs :  True\n",
      "test calcul_eff_obs :  True\n"
     ]
    }
   ],
   "source": [
    "def calcul_eff_obs():\n",
    "    \"\"\"\n",
    "    x : radio\n",
    "    y : style\n",
    "    \"\"\"\n",
    "    res = reponses.groupby(['Radio', 'Style musical']).size().unstack(level=0) # donnée ordonné\n",
    "    \n",
    "    showDF(res)\n",
    "    return res # un dataframe\n",
    "\n",
    "res_list_electro=[12,11,39,42,18,19]\n",
    "res_list_radio3=[39, 46, 14, 19, 11, 31, 33, 28]\n",
    "eff_obs=calcul_eff_obs()\n",
    "print('test calcul_eff_obs : ',len(res_list_electro)-list(np.isclose(eff_obs.loc['Electro'],res_list_electro)).count(True)==0)\n",
    "print('test calcul_eff_obs : ',len(res_list_radio3)-list(np.isclose(eff_obs['Radio 3'],res_list_radio3)).count(True)==0)\n"
   ]
  },
  {
   "cell_type": "code",
   "execution_count": null,
   "metadata": {},
   "outputs": [],
   "source": [
    "def calcul_eff_theo():\n",
    "    return #un dataframe\n",
    "\n",
    "res_list_indie=[5.187, 9.804, 12.597, 7.296, 9.69, 12.426]\n",
    "res_list_radio6=[30.738, 35.534, 12.426, 18.094, 12.208, 40.112, 35.97, 32.918]\n",
    "eff_theo=calcul_eff_theo()\n",
    "print('test calcul_eff_theo : ',len(res_list_indie)-list(np.isclose(eff_theo.loc['Indie'].to_list(),res_list_indie)).count(True)==0)\n",
    "print('test calcul_eff_theo : ',len(res_list_radio6)-list(np.isclose(eff_theo['Radio 6'].to_list(),res_list_radio6)).count(True)==0)\n"
   ]
  },
  {
   "cell_type": "code",
   "execution_count": null,
   "metadata": {},
   "outputs": [],
   "source": [
    "def calcul_contrib():\n",
    "    return #un dataframe\n",
    "\n",
    "res_list_rock=[1.6550266400266396, 1.1129105003523614, 0.329253393665159, 1.7734090909090914, 0.8735294117647057, 0.9908507089241031]\n",
    "res_list_radio1=[0.05381973345803127, 7.911675925301693, 0.2716346635820321, 11.815941877399705, 62.902907378335954, 8.237072145246058, 1.6550266400266396, 4.360896659631758]\n",
    "contrib=calcul_contrib()\n",
    "print('test calcul_contrib : ',len(res_list_rock)-list(np.isclose(contrib.loc['Rock'].to_list(),res_list_rock)).count(True)==0)\n",
    "print('test calcul_contrib : ',len(res_list_radio1)-list(np.isclose(contrib['Radio 1'].to_list(),res_list_radio1)).count(True)==0)\n"
   ]
  },
  {
   "cell_type": "code",
   "execution_count": null,
   "metadata": {},
   "outputs": [],
   "source": [
    "\n",
    "def analyse_contrib(n):\n",
    "    return #une liste de tuples\n",
    "\n",
    "ntest=5\n",
    "ana_contrib=analyse_contrib(ntest)\n",
    "\n",
    "res_list=[('Musique classique', 'Radio 1', '+', 62.902907378335954), ('Electro', 'Radio 4', '+', 31.78736170212767), ('Variété', 'Radio 2', '+', 30.24675743107962), ('Pop', 'Radio 6', '+', 18.023647387315513), ('Hip-Hop & RnB', 'Radio 2', '-', 17.320063347125128)]\n",
    "test_contrib=(list(np.isclose([res_list[i][3] for i in range(ntest)],[ana_contrib[i][3] for i in range(ntest)])).count(True)==ntest)\n",
    "test_sens_dep=([res_list[i][3]==ana_contrib[i][3] for i in range(ntest)].count(True)==ntest)\n",
    "test_radios=([res_list[i][1]==ana_contrib[i][1] for i in range(ntest)].count(True)==ntest)\n",
    "print('test analyse_contrib : ',test_contrib and test_sens_dep and test_radios)\n"
   ]
  },
  {
   "cell_type": "markdown",
   "metadata": {},
   "source": [
    "## Partie 2"
   ]
  },
  {
   "cell_type": "code",
   "execution_count": null,
   "metadata": {},
   "outputs": [],
   "source": [
    "def decomp_serie():\n",
    "    return #serie_mm,serie_coef_sais\n",
    "\n",
    "res_moy_mob=[np.nan, np.nan, 80.0, 79.9375, 79.9, 79.7, 79.4375, 79.3375, 79.2125, 78.9875, 78.7, 78.35, 77.9125, 77.575, 77.4375, np.nan, np.nan, np.nan, np.nan, np.nan, 73.35, 73.26249999999999, 73.225, 73.1375, 72.7375, 71.925, 71.35, 71.125, 70.7375, 70.2375, np.nan, np.nan]\n",
    "coef_sais={}\n",
    "coef_sais['T2']=0.992730\n",
    "coef_sais['T4']=1.006176\n",
    "serie_mm,serie_coef_sais=decomp_serie()\n",
    "print('test decomp_serie moy mob : ',list(np.isclose(np.nan_to_num(serie_mm.values),np.nan_to_num(np.array(res_moy_mob)))).count(True)==len(res_moy_mob) )\n",
    "print('test decomp_serie coef sais : ',np.isclose(serie_coef_sais.loc[2],coef_sais['T2']) and np.isclose(serie_coef_sais.loc[4],coef_sais['T4']))\n"
   ]
  },
  {
   "cell_type": "code",
   "execution_count": null,
   "metadata": {},
   "outputs": [],
   "source": [
    "def prevision(annee_prev,trim_prev,serie_coef_sais):\n",
    "    return #une valeur\n",
    "\n",
    "prev=prevision(2024,4,serie_coef_sais)\n",
    "res=68.7763620276032\n",
    "print('test prévision : ',np.isclose(prev,res))"
   ]
  }
 ],
 "metadata": {
  "kernelspec": {
   "display_name": "Python 3",
   "language": "python",
   "name": "python3"
  },
  "language_info": {
   "codemirror_mode": {
    "name": "ipython",
    "version": 3
   },
   "file_extension": ".py",
   "mimetype": "text/x-python",
   "name": "python",
   "nbconvert_exporter": "python",
   "pygments_lexer": "ipython3",
   "version": "3.11.2"
  }
 },
 "nbformat": 4,
 "nbformat_minor": 2
}
